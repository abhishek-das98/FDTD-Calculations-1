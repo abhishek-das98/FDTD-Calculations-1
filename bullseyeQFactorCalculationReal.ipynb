{
  "nbformat": 4,
  "nbformat_minor": 0,
  "metadata": {
    "colab": {
      "provenance": []
    },
    "kernelspec": {
      "name": "python3",
      "display_name": "Python 3"
    },
    "language_info": {
      "name": "python"
    },
    "widgets": {
      "application/vnd.jupyter.widget-state+json": {
        "eba8f39f2f9e438ba1c253c19d974272": {
          "model_module": "@jupyter-widgets/output",
          "model_name": "OutputModel",
          "model_module_version": "1.0.0",
          "state": {
            "_dom_classes": [],
            "_model_module": "@jupyter-widgets/output",
            "_model_module_version": "1.0.0",
            "_model_name": "OutputModel",
            "_view_count": null,
            "_view_module": "@jupyter-widgets/output",
            "_view_module_version": "1.0.0",
            "_view_name": "OutputView",
            "layout": "IPY_MODEL_863c104b267a4295a40e8c430df4b3de",
            "msg_id": "",
            "outputs": [
              {
                "output_type": "display_data",
                "data": {
                  "text/plain": "\u001b[1;31m↑\u001b[0m \u001b[1;34msimulation.hdf5.gz\u001b[0m \u001b[38;2;114;156;31m━━━━━━━━━━━━━━━━━━━━━━━━━\u001b[0m \u001b[35m100.0%\u001b[0m • \u001b[32m9.3/9.3 kB\u001b[0m • \u001b[31m?\u001b[0m • \u001b[36m0:00:00\u001b[0m\n",
                  "text/html": "<pre style=\"white-space:pre;overflow-x:auto;line-height:normal;font-family:Menlo,'DejaVu Sans Mono',consolas,'Courier New',monospace\"><span style=\"color: #800000; text-decoration-color: #800000; font-weight: bold\">↑</span> <span style=\"color: #000080; text-decoration-color: #000080; font-weight: bold\">simulation.hdf5.gz</span> <span style=\"color: #729c1f; text-decoration-color: #729c1f\">━━━━━━━━━━━━━━━━━━━━━━━━━</span> <span style=\"color: #800080; text-decoration-color: #800080\">100.0%</span> • <span style=\"color: #008000; text-decoration-color: #008000\">9.3/9.3 kB</span> • <span style=\"color: #800000; text-decoration-color: #800000\">?</span> • <span style=\"color: #008080; text-decoration-color: #008080\">0:00:00</span>\n</pre>\n"
                },
                "metadata": {}
              }
            ]
          }
        },
        "863c104b267a4295a40e8c430df4b3de": {
          "model_module": "@jupyter-widgets/base",
          "model_name": "LayoutModel",
          "model_module_version": "1.2.0",
          "state": {
            "_model_module": "@jupyter-widgets/base",
            "_model_module_version": "1.2.0",
            "_model_name": "LayoutModel",
            "_view_count": null,
            "_view_module": "@jupyter-widgets/base",
            "_view_module_version": "1.2.0",
            "_view_name": "LayoutView",
            "align_content": null,
            "align_items": null,
            "align_self": null,
            "border": null,
            "bottom": null,
            "display": null,
            "flex": null,
            "flex_flow": null,
            "grid_area": null,
            "grid_auto_columns": null,
            "grid_auto_flow": null,
            "grid_auto_rows": null,
            "grid_column": null,
            "grid_gap": null,
            "grid_row": null,
            "grid_template_areas": null,
            "grid_template_columns": null,
            "grid_template_rows": null,
            "height": null,
            "justify_content": null,
            "justify_items": null,
            "left": null,
            "margin": null,
            "max_height": null,
            "max_width": null,
            "min_height": null,
            "min_width": null,
            "object_fit": null,
            "object_position": null,
            "order": null,
            "overflow": null,
            "overflow_x": null,
            "overflow_y": null,
            "padding": null,
            "right": null,
            "top": null,
            "visibility": null,
            "width": null
          }
        },
        "371ad0867bc1488a86f5dbc83b485a73": {
          "model_module": "@jupyter-widgets/output",
          "model_name": "OutputModel",
          "model_module_version": "1.0.0",
          "state": {
            "_dom_classes": [],
            "_model_module": "@jupyter-widgets/output",
            "_model_module_version": "1.0.0",
            "_model_name": "OutputModel",
            "_view_count": null,
            "_view_module": "@jupyter-widgets/output",
            "_view_module_version": "1.0.0",
            "_view_name": "OutputView",
            "layout": "IPY_MODEL_34e8c0c94ee64f43b1915df4e92d242a",
            "msg_id": "",
            "outputs": [
              {
                "output_type": "display_data",
                "data": {
                  "text/plain": "\u001b[32m🚶 \u001b[0m \u001b[1;32mWaiting for 'cavity_Q'...\u001b[0m\n",
                  "text/html": "<pre style=\"white-space:pre;overflow-x:auto;line-height:normal;font-family:Menlo,'DejaVu Sans Mono',consolas,'Courier New',monospace\"><span style=\"color: #008000; text-decoration-color: #008000\">🚶 </span> <span style=\"color: #008000; text-decoration-color: #008000; font-weight: bold\">Waiting for 'cavity_Q'...</span>\n</pre>\n"
                },
                "metadata": {}
              }
            ]
          }
        },
        "34e8c0c94ee64f43b1915df4e92d242a": {
          "model_module": "@jupyter-widgets/base",
          "model_name": "LayoutModel",
          "model_module_version": "1.2.0",
          "state": {
            "_model_module": "@jupyter-widgets/base",
            "_model_module_version": "1.2.0",
            "_model_name": "LayoutModel",
            "_view_count": null,
            "_view_module": "@jupyter-widgets/base",
            "_view_module_version": "1.2.0",
            "_view_name": "LayoutView",
            "align_content": null,
            "align_items": null,
            "align_self": null,
            "border": null,
            "bottom": null,
            "display": null,
            "flex": null,
            "flex_flow": null,
            "grid_area": null,
            "grid_auto_columns": null,
            "grid_auto_flow": null,
            "grid_auto_rows": null,
            "grid_column": null,
            "grid_gap": null,
            "grid_row": null,
            "grid_template_areas": null,
            "grid_template_columns": null,
            "grid_template_rows": null,
            "height": null,
            "justify_content": null,
            "justify_items": null,
            "left": null,
            "margin": null,
            "max_height": null,
            "max_width": null,
            "min_height": null,
            "min_width": null,
            "object_fit": null,
            "object_position": null,
            "order": null,
            "overflow": null,
            "overflow_x": null,
            "overflow_y": null,
            "padding": null,
            "right": null,
            "top": null,
            "visibility": null,
            "width": null
          }
        },
        "cc716e43e9d741bc82443bd49396c98f": {
          "model_module": "@jupyter-widgets/output",
          "model_name": "OutputModel",
          "model_module_version": "1.0.0",
          "state": {
            "_dom_classes": [],
            "_model_module": "@jupyter-widgets/output",
            "_model_module_version": "1.0.0",
            "_model_name": "OutputModel",
            "_view_count": null,
            "_view_module": "@jupyter-widgets/output",
            "_view_module_version": "1.0.0",
            "_view_name": "OutputView",
            "layout": "IPY_MODEL_6e4cecf7afbe42c8bd8d216a8ae1118f",
            "msg_id": "",
            "outputs": [
              {
                "output_type": "display_data",
                "data": {
                  "text/plain": "solver progress (field decay = 4.02e-05) \u001b[38;2;114;156;31m━━━━━━━━━━━━━━━━━━━━━━━━━━\u001b[0m \u001b[35m100%\u001b[0m \u001b[36m0:00:00\u001b[0m\n",
                  "text/html": "<pre style=\"white-space:pre;overflow-x:auto;line-height:normal;font-family:Menlo,'DejaVu Sans Mono',consolas,'Courier New',monospace\">solver progress (field decay = 4.02e-05) <span style=\"color: #729c1f; text-decoration-color: #729c1f\">━━━━━━━━━━━━━━━━━━━━━━━━━━</span> <span style=\"color: #800080; text-decoration-color: #800080\">100%</span> <span style=\"color: #008080; text-decoration-color: #008080\">0:00:00</span>\n</pre>\n"
                },
                "metadata": {}
              }
            ]
          }
        },
        "6e4cecf7afbe42c8bd8d216a8ae1118f": {
          "model_module": "@jupyter-widgets/base",
          "model_name": "LayoutModel",
          "model_module_version": "1.2.0",
          "state": {
            "_model_module": "@jupyter-widgets/base",
            "_model_module_version": "1.2.0",
            "_model_name": "LayoutModel",
            "_view_count": null,
            "_view_module": "@jupyter-widgets/base",
            "_view_module_version": "1.2.0",
            "_view_name": "LayoutView",
            "align_content": null,
            "align_items": null,
            "align_self": null,
            "border": null,
            "bottom": null,
            "display": null,
            "flex": null,
            "flex_flow": null,
            "grid_area": null,
            "grid_auto_columns": null,
            "grid_auto_flow": null,
            "grid_auto_rows": null,
            "grid_column": null,
            "grid_gap": null,
            "grid_row": null,
            "grid_template_areas": null,
            "grid_template_columns": null,
            "grid_template_rows": null,
            "height": null,
            "justify_content": null,
            "justify_items": null,
            "left": null,
            "margin": null,
            "max_height": null,
            "max_width": null,
            "min_height": null,
            "min_width": null,
            "object_fit": null,
            "object_position": null,
            "order": null,
            "overflow": null,
            "overflow_x": null,
            "overflow_y": null,
            "padding": null,
            "right": null,
            "top": null,
            "visibility": null,
            "width": null
          }
        },
        "bafe659318af4c88882d782a6b6731e9": {
          "model_module": "@jupyter-widgets/output",
          "model_name": "OutputModel",
          "model_module_version": "1.0.0",
          "state": {
            "_dom_classes": [],
            "_model_module": "@jupyter-widgets/output",
            "_model_module_version": "1.0.0",
            "_model_name": "OutputModel",
            "_view_count": null,
            "_view_module": "@jupyter-widgets/output",
            "_view_module_version": "1.0.0",
            "_view_name": "OutputView",
            "layout": "IPY_MODEL_5296584c8a294120985f9c2519ed4900",
            "msg_id": "",
            "outputs": [
              {
                "output_type": "display_data",
                "data": {
                  "text/plain": "\u001b[32m🚶 \u001b[0m \u001b[1;32mFinishing 'cavity_Q'...\u001b[0m\n",
                  "text/html": "<pre style=\"white-space:pre;overflow-x:auto;line-height:normal;font-family:Menlo,'DejaVu Sans Mono',consolas,'Courier New',monospace\"><span style=\"color: #008000; text-decoration-color: #008000\">🚶 </span> <span style=\"color: #008000; text-decoration-color: #008000; font-weight: bold\">Finishing 'cavity_Q'...</span>\n</pre>\n"
                },
                "metadata": {}
              }
            ]
          }
        },
        "5296584c8a294120985f9c2519ed4900": {
          "model_module": "@jupyter-widgets/base",
          "model_name": "LayoutModel",
          "model_module_version": "1.2.0",
          "state": {
            "_model_module": "@jupyter-widgets/base",
            "_model_module_version": "1.2.0",
            "_model_name": "LayoutModel",
            "_view_count": null,
            "_view_module": "@jupyter-widgets/base",
            "_view_module_version": "1.2.0",
            "_view_name": "LayoutView",
            "align_content": null,
            "align_items": null,
            "align_self": null,
            "border": null,
            "bottom": null,
            "display": null,
            "flex": null,
            "flex_flow": null,
            "grid_area": null,
            "grid_auto_columns": null,
            "grid_auto_flow": null,
            "grid_auto_rows": null,
            "grid_column": null,
            "grid_gap": null,
            "grid_row": null,
            "grid_template_areas": null,
            "grid_template_columns": null,
            "grid_template_rows": null,
            "height": null,
            "justify_content": null,
            "justify_items": null,
            "left": null,
            "margin": null,
            "max_height": null,
            "max_width": null,
            "min_height": null,
            "min_width": null,
            "object_fit": null,
            "object_position": null,
            "order": null,
            "overflow": null,
            "overflow_x": null,
            "overflow_y": null,
            "padding": null,
            "right": null,
            "top": null,
            "visibility": null,
            "width": null
          }
        },
        "ffb52e5a85a04329b04466c0733041e9": {
          "model_module": "@jupyter-widgets/output",
          "model_name": "OutputModel",
          "model_module_version": "1.0.0",
          "state": {
            "_dom_classes": [],
            "_model_module": "@jupyter-widgets/output",
            "_model_module_version": "1.0.0",
            "_model_name": "OutputModel",
            "_view_count": null,
            "_view_module": "@jupyter-widgets/output",
            "_view_module_version": "1.0.0",
            "_view_name": "OutputView",
            "layout": "IPY_MODEL_f94f5596ab3442c4865b6c3406d3aac3",
            "msg_id": "",
            "outputs": [
              {
                "output_type": "display_data",
                "data": {
                  "text/plain": "\u001b[1;32m↓\u001b[0m \u001b[1;34msimulation_data.hdf5.gz\u001b[0m \u001b[38;2;114;156;31m━━━━━━━━━━━\u001b[0m \u001b[35m100.0%\u001b[0m • \u001b[32m22.0/22.0  \u001b[0m • \u001b[31m32.6 MB/s\u001b[0m • \u001b[36m0:00:00\u001b[0m\n                                               \u001b[32mMB         \u001b[0m                      \n",
                  "text/html": "<pre style=\"white-space:pre;overflow-x:auto;line-height:normal;font-family:Menlo,'DejaVu Sans Mono',consolas,'Courier New',monospace\"><span style=\"color: #008000; text-decoration-color: #008000; font-weight: bold\">↓</span> <span style=\"color: #000080; text-decoration-color: #000080; font-weight: bold\">simulation_data.hdf5.gz</span> <span style=\"color: #729c1f; text-decoration-color: #729c1f\">━━━━━━━━━━━</span> <span style=\"color: #800080; text-decoration-color: #800080\">100.0%</span> • <span style=\"color: #008000; text-decoration-color: #008000\">22.0/22.0  </span> • <span style=\"color: #800000; text-decoration-color: #800000\">32.6 MB/s</span> • <span style=\"color: #008080; text-decoration-color: #008080\">0:00:00</span>\n                                               <span style=\"color: #008000; text-decoration-color: #008000\">MB         </span>                      \n</pre>\n"
                },
                "metadata": {}
              }
            ]
          }
        },
        "f94f5596ab3442c4865b6c3406d3aac3": {
          "model_module": "@jupyter-widgets/base",
          "model_name": "LayoutModel",
          "model_module_version": "1.2.0",
          "state": {
            "_model_module": "@jupyter-widgets/base",
            "_model_module_version": "1.2.0",
            "_model_name": "LayoutModel",
            "_view_count": null,
            "_view_module": "@jupyter-widgets/base",
            "_view_module_version": "1.2.0",
            "_view_name": "LayoutView",
            "align_content": null,
            "align_items": null,
            "align_self": null,
            "border": null,
            "bottom": null,
            "display": null,
            "flex": null,
            "flex_flow": null,
            "grid_area": null,
            "grid_auto_columns": null,
            "grid_auto_flow": null,
            "grid_auto_rows": null,
            "grid_column": null,
            "grid_gap": null,
            "grid_row": null,
            "grid_template_areas": null,
            "grid_template_columns": null,
            "grid_template_rows": null,
            "height": null,
            "justify_content": null,
            "justify_items": null,
            "left": null,
            "margin": null,
            "max_height": null,
            "max_width": null,
            "min_height": null,
            "min_width": null,
            "object_fit": null,
            "object_position": null,
            "order": null,
            "overflow": null,
            "overflow_x": null,
            "overflow_y": null,
            "padding": null,
            "right": null,
            "top": null,
            "visibility": null,
            "width": null
          }
        }
      }
    }
  },
  "cells": [
    {
      "cell_type": "code",
      "execution_count": 1,
      "metadata": {
        "colab": {
          "base_uri": "https://localhost:8080/"
        },
        "id": "ei5e7zqX3Fad",
        "outputId": "d78b7d2a-ee36-4871-ac9a-4d13ef3e864a"
      },
      "outputs": [
        {
          "output_type": "stream",
          "name": "stdout",
          "text": [
            "Collecting tidy3d\n",
            "  Downloading tidy3d-2.7.6-py3-none-any.whl.metadata (9.6 kB)\n",
            "Requirement already satisfied: PyYAML in /usr/local/lib/python3.10/dist-packages (from tidy3d) (6.0.2)\n",
            "Collecting autograd==1.6.2 (from tidy3d)\n",
            "  Downloading autograd-1.6.2-py3-none-any.whl.metadata (706 bytes)\n",
            "Collecting boto3<2.0.0,>=1.28.0 (from tidy3d)\n",
            "  Downloading boto3-1.35.60-py3-none-any.whl.metadata (6.7 kB)\n",
            "Requirement already satisfied: click<9.0.0,>=8.1.0 in /usr/local/lib/python3.10/dist-packages (from tidy3d) (8.1.7)\n",
            "Requirement already satisfied: dask in /usr/local/lib/python3.10/dist-packages (from tidy3d) (2024.10.0)\n",
            "Collecting h5netcdf==1.0.2 (from tidy3d)\n",
            "  Downloading h5netcdf-1.0.2-py2.py3-none-any.whl.metadata (10 kB)\n",
            "Requirement already satisfied: h5py<4.0.0,>=3.0.0 in /usr/local/lib/python3.10/dist-packages (from tidy3d) (3.12.1)\n",
            "Requirement already satisfied: importlib-metadata>=6.0.0 in /usr/local/lib/python3.10/dist-packages (from tidy3d) (8.5.0)\n",
            "Requirement already satisfied: joblib in /usr/local/lib/python3.10/dist-packages (from tidy3d) (1.4.2)\n",
            "Requirement already satisfied: matplotlib in /usr/local/lib/python3.10/dist-packages (from tidy3d) (3.8.0)\n",
            "Requirement already satisfied: numpy<2 in /usr/local/lib/python3.10/dist-packages (from tidy3d) (1.26.4)\n",
            "Collecting pandas<=2.2.1 (from tidy3d)\n",
            "  Downloading pandas-2.2.1-cp310-cp310-manylinux_2_17_x86_64.manylinux2014_x86_64.whl.metadata (19 kB)\n",
            "Requirement already satisfied: pydantic<3.0,>=2.0 in /usr/local/lib/python3.10/dist-packages (from tidy3d) (2.9.2)\n",
            "Requirement already satisfied: pyjwt in /usr/local/lib/python3.10/dist-packages (from tidy3d) (2.9.0)\n",
            "Collecting pyroots>=0.5.0 (from tidy3d)\n",
            "  Downloading pyroots-0.5.0-py2.py3-none-any.whl.metadata (8.4 kB)\n",
            "Requirement already satisfied: requests<3.0.0,>=2.31.0 in /usr/local/lib/python3.10/dist-packages (from tidy3d) (2.32.3)\n",
            "Collecting responses (from tidy3d)\n",
            "  Downloading responses-0.25.3-py3-none-any.whl.metadata (46 kB)\n",
            "\u001b[2K     \u001b[90m━━━━━━━━━━━━━━━━━━━━━━━━━━━━━━━━━━━━━━━━\u001b[0m \u001b[32m46.7/46.7 kB\u001b[0m \u001b[31m2.5 MB/s\u001b[0m eta \u001b[36m0:00:00\u001b[0m\n",
            "\u001b[?25hRequirement already satisfied: rich<14.0,>=13.0 in /usr/local/lib/python3.10/dist-packages (from tidy3d) (13.9.4)\n",
            "Requirement already satisfied: scipy in /usr/local/lib/python3.10/dist-packages (from tidy3d) (1.13.1)\n",
            "Requirement already satisfied: shapely<3.0,>=2.0 in /usr/local/lib/python3.10/dist-packages (from tidy3d) (2.0.6)\n",
            "Requirement already satisfied: toml in /usr/local/lib/python3.10/dist-packages (from tidy3d) (0.10.2)\n",
            "Requirement already satisfied: xarray>=2023.08.0 in /usr/local/lib/python3.10/dist-packages (from tidy3d) (2024.10.0)\n",
            "Requirement already satisfied: future>=0.15.2 in /usr/local/lib/python3.10/dist-packages (from autograd==1.6.2->tidy3d) (1.0.0)\n",
            "Requirement already satisfied: packaging in /usr/local/lib/python3.10/dist-packages (from h5netcdf==1.0.2->tidy3d) (24.2)\n",
            "Collecting botocore<1.36.0,>=1.35.60 (from boto3<2.0.0,>=1.28.0->tidy3d)\n",
            "  Downloading botocore-1.35.60-py3-none-any.whl.metadata (5.7 kB)\n",
            "Collecting jmespath<2.0.0,>=0.7.1 (from boto3<2.0.0,>=1.28.0->tidy3d)\n",
            "  Downloading jmespath-1.0.1-py3-none-any.whl.metadata (7.6 kB)\n",
            "Collecting s3transfer<0.11.0,>=0.10.0 (from boto3<2.0.0,>=1.28.0->tidy3d)\n",
            "  Downloading s3transfer-0.10.3-py3-none-any.whl.metadata (1.7 kB)\n",
            "Requirement already satisfied: zipp>=3.20 in /usr/local/lib/python3.10/dist-packages (from importlib-metadata>=6.0.0->tidy3d) (3.20.2)\n",
            "Requirement already satisfied: python-dateutil>=2.8.2 in /usr/local/lib/python3.10/dist-packages (from pandas<=2.2.1->tidy3d) (2.8.2)\n",
            "Requirement already satisfied: pytz>=2020.1 in /usr/local/lib/python3.10/dist-packages (from pandas<=2.2.1->tidy3d) (2024.2)\n",
            "Requirement already satisfied: tzdata>=2022.7 in /usr/local/lib/python3.10/dist-packages (from pandas<=2.2.1->tidy3d) (2024.2)\n",
            "Requirement already satisfied: annotated-types>=0.6.0 in /usr/local/lib/python3.10/dist-packages (from pydantic<3.0,>=2.0->tidy3d) (0.7.0)\n",
            "Requirement already satisfied: pydantic-core==2.23.4 in /usr/local/lib/python3.10/dist-packages (from pydantic<3.0,>=2.0->tidy3d) (2.23.4)\n",
            "Requirement already satisfied: typing-extensions>=4.6.1 in /usr/local/lib/python3.10/dist-packages (from pydantic<3.0,>=2.0->tidy3d) (4.12.2)\n",
            "Requirement already satisfied: charset-normalizer<4,>=2 in /usr/local/lib/python3.10/dist-packages (from requests<3.0.0,>=2.31.0->tidy3d) (3.4.0)\n",
            "Requirement already satisfied: idna<4,>=2.5 in /usr/local/lib/python3.10/dist-packages (from requests<3.0.0,>=2.31.0->tidy3d) (3.10)\n",
            "Requirement already satisfied: urllib3<3,>=1.21.1 in /usr/local/lib/python3.10/dist-packages (from requests<3.0.0,>=2.31.0->tidy3d) (2.2.3)\n",
            "Requirement already satisfied: certifi>=2017.4.17 in /usr/local/lib/python3.10/dist-packages (from requests<3.0.0,>=2.31.0->tidy3d) (2024.8.30)\n",
            "Requirement already satisfied: markdown-it-py>=2.2.0 in /usr/local/lib/python3.10/dist-packages (from rich<14.0,>=13.0->tidy3d) (3.0.0)\n",
            "Requirement already satisfied: pygments<3.0.0,>=2.13.0 in /usr/local/lib/python3.10/dist-packages (from rich<14.0,>=13.0->tidy3d) (2.18.0)\n",
            "Requirement already satisfied: cloudpickle>=3.0.0 in /usr/local/lib/python3.10/dist-packages (from dask->tidy3d) (3.1.0)\n",
            "Requirement already satisfied: fsspec>=2021.09.0 in /usr/local/lib/python3.10/dist-packages (from dask->tidy3d) (2024.10.0)\n",
            "Requirement already satisfied: partd>=1.4.0 in /usr/local/lib/python3.10/dist-packages (from dask->tidy3d) (1.4.2)\n",
            "Requirement already satisfied: toolz>=0.10.0 in /usr/local/lib/python3.10/dist-packages (from dask->tidy3d) (0.12.1)\n",
            "Requirement already satisfied: contourpy>=1.0.1 in /usr/local/lib/python3.10/dist-packages (from matplotlib->tidy3d) (1.3.0)\n",
            "Requirement already satisfied: cycler>=0.10 in /usr/local/lib/python3.10/dist-packages (from matplotlib->tidy3d) (0.12.1)\n",
            "Requirement already satisfied: fonttools>=4.22.0 in /usr/local/lib/python3.10/dist-packages (from matplotlib->tidy3d) (4.54.1)\n",
            "Requirement already satisfied: kiwisolver>=1.0.1 in /usr/local/lib/python3.10/dist-packages (from matplotlib->tidy3d) (1.4.7)\n",
            "Requirement already satisfied: pillow>=6.2.0 in /usr/local/lib/python3.10/dist-packages (from matplotlib->tidy3d) (11.0.0)\n",
            "Requirement already satisfied: pyparsing>=2.3.1 in /usr/local/lib/python3.10/dist-packages (from matplotlib->tidy3d) (3.2.0)\n",
            "Requirement already satisfied: mdurl~=0.1 in /usr/local/lib/python3.10/dist-packages (from markdown-it-py>=2.2.0->rich<14.0,>=13.0->tidy3d) (0.1.2)\n",
            "Requirement already satisfied: locket in /usr/local/lib/python3.10/dist-packages (from partd>=1.4.0->dask->tidy3d) (1.0.0)\n",
            "Requirement already satisfied: six>=1.5 in /usr/local/lib/python3.10/dist-packages (from python-dateutil>=2.8.2->pandas<=2.2.1->tidy3d) (1.16.0)\n",
            "Downloading tidy3d-2.7.6-py3-none-any.whl (1.0 MB)\n",
            "\u001b[2K   \u001b[90m━━━━━━━━━━━━━━━━━━━━━━━━━━━━━━━━━━━━━━━━\u001b[0m \u001b[32m1.0/1.0 MB\u001b[0m \u001b[31m20.8 MB/s\u001b[0m eta \u001b[36m0:00:00\u001b[0m\n",
            "\u001b[?25hDownloading autograd-1.6.2-py3-none-any.whl (49 kB)\n",
            "\u001b[2K   \u001b[90m━━━━━━━━━━━━━━━━━━━━━━━━━━━━━━━━━━━━━━━━\u001b[0m \u001b[32m49.3/49.3 kB\u001b[0m \u001b[31m2.9 MB/s\u001b[0m eta \u001b[36m0:00:00\u001b[0m\n",
            "\u001b[?25hDownloading h5netcdf-1.0.2-py2.py3-none-any.whl (24 kB)\n",
            "Downloading boto3-1.35.60-py3-none-any.whl (139 kB)\n",
            "\u001b[2K   \u001b[90m━━━━━━━━━━━━━━━━━━━━━━━━━━━━━━━━━━━━━━━━\u001b[0m \u001b[32m139.2/139.2 kB\u001b[0m \u001b[31m9.6 MB/s\u001b[0m eta \u001b[36m0:00:00\u001b[0m\n",
            "\u001b[?25hDownloading pandas-2.2.1-cp310-cp310-manylinux_2_17_x86_64.manylinux2014_x86_64.whl (13.0 MB)\n",
            "\u001b[2K   \u001b[90m━━━━━━━━━━━━━━━━━━━━━━━━━━━━━━━━━━━━━━━━\u001b[0m \u001b[32m13.0/13.0 MB\u001b[0m \u001b[31m55.5 MB/s\u001b[0m eta \u001b[36m0:00:00\u001b[0m\n",
            "\u001b[?25hDownloading pyroots-0.5.0-py2.py3-none-any.whl (17 kB)\n",
            "Downloading responses-0.25.3-py3-none-any.whl (55 kB)\n",
            "\u001b[2K   \u001b[90m━━━━━━━━━━━━━━━━━━━━━━━━━━━━━━━━━━━━━━━━\u001b[0m \u001b[32m55.2/55.2 kB\u001b[0m \u001b[31m3.6 MB/s\u001b[0m eta \u001b[36m0:00:00\u001b[0m\n",
            "\u001b[?25hDownloading botocore-1.35.60-py3-none-any.whl (12.8 MB)\n",
            "\u001b[2K   \u001b[90m━━━━━━━━━━━━━━━━━━━━━━━━━━━━━━━━━━━━━━━━\u001b[0m \u001b[32m12.8/12.8 MB\u001b[0m \u001b[31m30.7 MB/s\u001b[0m eta \u001b[36m0:00:00\u001b[0m\n",
            "\u001b[?25hDownloading jmespath-1.0.1-py3-none-any.whl (20 kB)\n",
            "Downloading s3transfer-0.10.3-py3-none-any.whl (82 kB)\n",
            "\u001b[2K   \u001b[90m━━━━━━━━━━━━━━━━━━━━━━━━━━━━━━━━━━━━━━━━\u001b[0m \u001b[32m82.6/82.6 kB\u001b[0m \u001b[31m5.9 MB/s\u001b[0m eta \u001b[36m0:00:00\u001b[0m\n",
            "\u001b[?25hInstalling collected packages: pyroots, jmespath, autograd, responses, pandas, h5netcdf, botocore, s3transfer, boto3, tidy3d\n",
            "  Attempting uninstall: autograd\n",
            "    Found existing installation: autograd 1.7.0\n",
            "    Uninstalling autograd-1.7.0:\n",
            "      Successfully uninstalled autograd-1.7.0\n",
            "  Attempting uninstall: pandas\n",
            "    Found existing installation: pandas 2.2.2\n",
            "    Uninstalling pandas-2.2.2:\n",
            "      Successfully uninstalled pandas-2.2.2\n",
            "  Attempting uninstall: h5netcdf\n",
            "    Found existing installation: h5netcdf 1.4.0\n",
            "    Uninstalling h5netcdf-1.4.0:\n",
            "      Successfully uninstalled h5netcdf-1.4.0\n",
            "\u001b[31mERROR: pip's dependency resolver does not currently take into account all the packages that are installed. This behaviour is the source of the following dependency conflicts.\n",
            "google-colab 1.0.0 requires pandas==2.2.2, but you have pandas 2.2.1 which is incompatible.\u001b[0m\u001b[31m\n",
            "\u001b[0mSuccessfully installed autograd-1.6.2 boto3-1.35.60 botocore-1.35.60 h5netcdf-1.0.2 jmespath-1.0.1 pandas-2.2.1 pyroots-0.5.0 responses-0.25.3 s3transfer-0.10.3 tidy3d-2.7.6\n",
            "Configured successfully.\n"
          ]
        }
      ],
      "source": [
        "!pip install tidy3d\n",
        "import tidy3d.web as web\n",
        "web.configure(\"wclpAIGF4JlvJlABZs9BOY3yg53fsAAd54VzLiVcCFPu7pFC\")"
      ]
    },
    {
      "cell_type": "code",
      "source": [
        "!pip install gdstk"
      ],
      "metadata": {
        "colab": {
          "base_uri": "https://localhost:8080/"
        },
        "id": "xAkmECFlHtEM",
        "outputId": "62d387b4-a7a5-401d-e13a-c5455c485a42"
      },
      "execution_count": 2,
      "outputs": [
        {
          "output_type": "stream",
          "name": "stdout",
          "text": [
            "Collecting gdstk\n",
            "  Downloading gdstk-0.9.57-cp310-cp310-manylinux_2_28_x86_64.whl.metadata (8.7 kB)\n",
            "Requirement already satisfied: numpy in /usr/local/lib/python3.10/dist-packages (from gdstk) (1.26.4)\n",
            "Requirement already satisfied: typing_extensions in /usr/local/lib/python3.10/dist-packages (from gdstk) (4.12.2)\n",
            "Downloading gdstk-0.9.57-cp310-cp310-manylinux_2_28_x86_64.whl (533 kB)\n",
            "\u001b[?25l   \u001b[90m━━━━━━━━━━━━━━━━━━━━━━━━━━━━━━━━━━━━━━━━\u001b[0m \u001b[32m0.0/533.9 kB\u001b[0m \u001b[31m?\u001b[0m eta \u001b[36m-:--:--\u001b[0m\r\u001b[2K   \u001b[90m━━━━━━━━━━━━━━━━━━━━━━━━━━━━━━━━━━━━━━━━\u001b[0m \u001b[32m533.9/533.9 kB\u001b[0m \u001b[31m26.5 MB/s\u001b[0m eta \u001b[36m0:00:00\u001b[0m\n",
            "\u001b[?25hInstalling collected packages: gdstk\n",
            "Successfully installed gdstk-0.9.57\n"
          ]
        }
      ]
    },
    {
      "cell_type": "code",
      "source": [
        "import tidy3d.web as web # if needed\n",
        "web.test()"
      ],
      "metadata": {
        "colab": {
          "base_uri": "https://localhost:8080/",
          "height": 34
        },
        "id": "9DIbJ1wh4DkN",
        "outputId": "3fdbd998-370d-483b-babe-c97832f03715"
      },
      "execution_count": 3,
      "outputs": [
        {
          "output_type": "display_data",
          "data": {
            "text/plain": [
              "\u001b[2;36m01:29:07 UTC\u001b[0m\u001b[2;36m \u001b[0mAuthentication configured successfully!                            \n"
            ],
            "text/html": [
              "<pre style=\"white-space:pre;overflow-x:auto;line-height:normal;font-family:Menlo,'DejaVu Sans Mono',consolas,'Courier New',monospace\"><span style=\"color: #7fbfbf; text-decoration-color: #7fbfbf\">01:29:07 UTC </span>Authentication configured successfully!                            \n",
              "</pre>\n"
            ]
          },
          "metadata": {}
        }
      ]
    },
    {
      "cell_type": "code",
      "source": [
        "import numpy as np\n",
        "import matplotlib.pyplot as plt\n",
        "import tidy3d as td\n",
        "import tidy3d.web as web\n",
        "from tidy3d.plugins.resonance import ResonanceFinder\n",
        "\n",
        "import gdstk"
      ],
      "metadata": {
        "id": "v9YYSpNs4-Rg"
      },
      "execution_count": 4,
      "outputs": []
    },
    {
      "cell_type": "code",
      "source": [
        "lambda_min = 0.8\n",
        "lambda_max = 1.1\n",
        "\n",
        "monitor_lambda = np.linspace(lambda_min, lambda_max, 101)\n",
        "monitor_freq = td.constants.C_0/monitor_lambda\n",
        "\n",
        "dl = 0.02 # uniform sampling mesh size\n",
        "\n",
        "sim_size = Lx, Ly, Lz = (3.5, 3.5, 2)\n",
        "offset_monitor = 0.4 # monitor position in the vertical direction\n",
        "\n",
        "t_start = 0.2e-12  # from inspection\n",
        "t_stop = 4e-12\n",
        "\n",
        "vacuum = td.Medium(permittivity = 1, name = 'vacuum')\n",
        "GaAs_permittivity = 3.55**2\n",
        "GaAs = td.Medium(permittivity = GaAs_permittivity, name = 'GaAs')\n",
        "\n",
        "freq0 = 302.675e12\n",
        "fwidth = 144.131e12\n",
        "\n",
        "slab_side_length = 10\n",
        "slab_height = 0.2"
      ],
      "metadata": {
        "id": "3rIE350u5ERn"
      },
      "execution_count": 5,
      "outputs": []
    },
    {
      "cell_type": "code",
      "source": [
        "slab = td.Structure(\n",
        "    geometry = td.Box(\n",
        "        center = (0, 0, 0),\n",
        "        size = (slab_side_length, slab_side_length, slab_height)\n",
        "    ),\n",
        "    medium = GaAs,\n",
        "    name = 'GaAs slab'\n",
        ")"
      ],
      "metadata": {
        "id": "JZpDsbBU5OZQ"
      },
      "execution_count": 6,
      "outputs": []
    },
    {
      "cell_type": "code",
      "source": [
        "lib = gdstk.Library()\n",
        "\n",
        "# Geometry must be placed in cells.\n",
        "cell = lib.new_cell(\"BULLSEYE\")\n",
        "\n",
        "central_inner_radius = 0.355                   #initial inner radius\n",
        "ring_width = 0.07                     #rings' width\n",
        "ring_height = 0.2                   #rings' height\n",
        "theta1 = 3 * np.pi / 180\n",
        "theta2 = 87 * np.pi / 180\n",
        "ringsNumbers = 7\n",
        "vertexIncrement = 0.1075\n",
        "ringNumber = 7\n",
        "xOrigin = 0\n",
        "yOrigin = 0\n",
        "\n",
        "\n",
        "for i in range(ringsNumbers):\n",
        "    for j in range(4):\n",
        "        gcSlice = gdstk.ellipse(\n",
        "            (xOrigin, yOrigin),\n",
        "            central_inner_radius + i * (vertexIncrement + ring_width),\n",
        "            central_inner_radius + i * (vertexIncrement + ring_width) + ring_width,\n",
        "            theta1 + j*np.pi/2,\n",
        "            theta2 + j*np.pi/2,\n",
        "            layer=1,\n",
        "            datatype=1,\n",
        "            tolerance=0.0005\n",
        "        )\n",
        "        cell.add(gcSlice)\n",
        "gc_etch = td.Geometry.from_gds(\n",
        "        cell, gds_layer=1, axis=2, slab_bounds=(-ring_height/2, ring_height/2)\n",
        "    )\n",
        "\n",
        "gc_etch.plot(z=0)\n",
        "plt.show()\n",
        "\n",
        "mat_etch = td.Medium(permittivity = 1, name = 'air')\n",
        "etch = td.Structure(\n",
        "    geometry = gc_etch,\n",
        "    medium = mat_etch,\n",
        "    name = 'etch'\n",
        ")"
      ],
      "metadata": {
        "colab": {
          "base_uri": "https://localhost:8080/",
          "height": 487
        },
        "id": "ikKwN6qmH8t4",
        "outputId": "5ec2911c-525c-4825-f0b3-2d64a5e09539"
      },
      "execution_count": 7,
      "outputs": [
        {
          "output_type": "display_data",
          "data": {
            "text/plain": [
              "<Figure size 640x480 with 1 Axes>"
            ],
            "image/png": "[encoded data removed]"
          },
          "metadata": {}
        }
      ]
    },
    {
      "cell_type": "code",
      "source": [
        "dipole_source = td.PointDipole(\n",
        "    center = (0, 0, 0),\n",
        "    source_time = td.GaussianPulse(\n",
        "        freq0 = freq0,\n",
        "        fwidth = fwidth),\n",
        "    polarization = 'Ex',\n",
        "    name = 'dipole_source'\n",
        ")"
      ],
      "metadata": {
        "id": "SFHl3T9UE0e2"
      },
      "execution_count": 8,
      "outputs": []
    },
    {
      "cell_type": "code",
      "source": [
        "time_monitor_1 = td.FieldTimeMonitor(\n",
        "    name = 'time_monitor_1',\n",
        "    size = [0, 0, 0],\n",
        "    center = [0.1, 0.1, 0],\n",
        "    start = t_start\n",
        ")\n",
        "\n",
        "time_monitor_2 = td.FieldTimeMonitor(\n",
        "    name = 'time_monitor_2',\n",
        "    size = [0, 0, 0],\n",
        "    center = [0.1, 0.2, 0],\n",
        "    start = t_start\n",
        ")\n",
        "\n",
        "time_monitor_3 = td.FieldTimeMonitor(\n",
        "    name = 'time_monitor_3',\n",
        "    size = [0, 0, 0],\n",
        "    center = [0.2, 0.2, 0],\n",
        "    start = t_start\n",
        ")\n",
        "\n",
        "time_monitor_4 = td.FieldTimeMonitor(\n",
        "    name = 'time_monitor_4',\n",
        "    size = [0, 0, 0],\n",
        "    center = [0.2, 0.1, 0],\n",
        "    start = t_start\n",
        ")\n",
        "\n",
        "time_monitors = [time_monitor_1, time_monitor_2, time_monitor_3, time_monitor_4]"
      ],
      "metadata": {
        "id": "ofBjG6t0Fatr"
      },
      "execution_count": 9,
      "outputs": []
    },
    {
      "cell_type": "code",
      "source": [
        "mode_monitor = td.FieldMonitor(\n",
        "    center = (0, 0, 0),\n",
        "    size = (td.inf, td.inf, 0),\n",
        "    fields = ['Ex', 'Ey', 'Ez'],\n",
        "    freqs = monitor_freq,\n",
        "    name = 'central_mode_monitor'\n",
        ")"
      ],
      "metadata": {
        "id": "yLxiRqgMzZaS"
      },
      "execution_count": 10,
      "outputs": []
    },
    {
      "cell_type": "code",
      "source": [
        "far_field_monitor = td.FieldProjectionAngleMonitor(\n",
        "    center = (0, 0, offset_monitor),\n",
        "    size = (td.inf, td.inf, 0),\n",
        "    name = 'far_field_monitor',\n",
        "    freqs = monitor_freq,\n",
        "    normal_dir = '+',\n",
        "    phi = np.linspace(0, 2 * np.pi, 181),\n",
        "    theta = np.linspace(0, np.pi, 91)\n",
        ")"
      ],
      "metadata": {
        "id": "ZbCuY1gvgJhf"
      },
      "execution_count": 11,
      "outputs": []
    },
    {
      "cell_type": "code",
      "source": [
        "sim_Q = td.Simulation(\n",
        "    center = (0, 0, 0),\n",
        "    size = sim_size,\n",
        "    grid_spec = td.GridSpec.uniform(dl = dl),\n",
        "    run_time = t_stop,\n",
        "    sources = [dipole_source],\n",
        "    monitors = time_monitors,\n",
        "    structures = [slab, etch],\n",
        "    medium = vacuum,\n",
        "    shutoff = 1e-7,\n",
        "    symmetry = [-1, 1, 0]\n",
        ")"
      ],
      "metadata": {
        "colab": {
          "base_uri": "https://localhost:8080/",
          "height": 102
        },
        "id": "WBBreNGRGq3r",
        "outputId": "59bc18a8-5ab5-4cc2-96f5-04b82d7dd210"
      },
      "execution_count": 21,
      "outputs": [
        {
          "output_type": "display_data",
          "data": {
            "text/plain": [
              "\u001b[2;36m01:35:12 UTC\u001b[0m\u001b[2;36m \u001b[0m\u001b[31mWARNING: Structure at structures\u001b[0m\u001b[1;31m[\u001b[0m\u001b[1;36m1\u001b[0m\u001b[1;31m]\u001b[0m\u001b[31m was detected as being less than\u001b[0m\n",
              "\u001b[2;36m             \u001b[0m\u001b[31mhalf of a central wavelength from a PML on side x-min. To avoid    \u001b[0m\n",
              "\u001b[2;36m             \u001b[0m\u001b[31minaccurate results or divergence, please increase gap between any  \u001b[0m\n",
              "\u001b[2;36m             \u001b[0m\u001b[31mstructures and PML or fully extend structure through the pml.      \u001b[0m\n"
            ],
            "text/html": [
              "<pre style=\"white-space:pre;overflow-x:auto;line-height:normal;font-family:Menlo,'DejaVu Sans Mono',consolas,'Courier New',monospace\"><span style=\"color: #7fbfbf; text-decoration-color: #7fbfbf\">01:35:12 UTC </span><span style=\"color: #800000; text-decoration-color: #800000\">WARNING: Structure at structures</span><span style=\"color: #800000; text-decoration-color: #800000; font-weight: bold\">[</span><span style=\"color: #008080; text-decoration-color: #008080; font-weight: bold\">1</span><span style=\"color: #800000; text-decoration-color: #800000; font-weight: bold\">]</span><span style=\"color: #800000; text-decoration-color: #800000\"> was detected as being less than</span>\n",
              "<span style=\"color: #7fbfbf; text-decoration-color: #7fbfbf\">             </span><span style=\"color: #800000; text-decoration-color: #800000\">half of a central wavelength from a PML on side x-min. To avoid    </span>\n",
              "<span style=\"color: #7fbfbf; text-decoration-color: #7fbfbf\">             </span><span style=\"color: #800000; text-decoration-color: #800000\">inaccurate results or divergence, please increase gap between any  </span>\n",
              "<span style=\"color: #7fbfbf; text-decoration-color: #7fbfbf\">             </span><span style=\"color: #800000; text-decoration-color: #800000\">structures and PML or fully extend structure through the pml.      </span>\n",
              "</pre>\n"
            ]
          },
          "metadata": {}
        },
        {
          "output_type": "display_data",
          "data": {
            "text/plain": [
              "\u001b[2;36m            \u001b[0m\u001b[2;36m \u001b[0m\u001b[31mWARNING: Suppressed \u001b[0m\u001b[1;36m3\u001b[0m\u001b[31m WARNING messages.                            \u001b[0m\n"
            ],
            "text/html": [
              "<pre style=\"white-space:pre;overflow-x:auto;line-height:normal;font-family:Menlo,'DejaVu Sans Mono',consolas,'Courier New',monospace\"><span style=\"color: #7fbfbf; text-decoration-color: #7fbfbf\">             </span><span style=\"color: #800000; text-decoration-color: #800000\">WARNING: Suppressed </span><span style=\"color: #008080; text-decoration-color: #008080; font-weight: bold\">3</span><span style=\"color: #800000; text-decoration-color: #800000\"> WARNING messages.                            </span>\n",
              "</pre>\n"
            ]
          },
          "metadata": {}
        }
      ]
    },
    {
      "cell_type": "code",
      "source": [
        "sim_Q.plot_3d()"
      ],
      "metadata": {
        "colab": {
          "base_uri": "https://localhost:8080/",
          "height": 825
        },
        "id": "1f_eTlZnHYMi",
        "outputId": "6dab6abd-b1ea-4f97-e1bf-87047a261539"
      },
      "execution_count": 22,
      "outputs": [
        {
          "output_type": "display_data",
          "data": {
            "text/plain": [
              "<IPython.core.display.HTML object>"
            ],
            "text/html": [
              "\n",
              "    <div class=\"simulation-viewer\" data-width=\"800\" data-height=\"800\" data-simulation=\"{&quot;attrs&quot;: {}, &quot;type&quot;: &quot;Simulation&quot;, &quot;center&quot;: [0.0, 0.0, 0.0], &quot;size&quot;: [3.5, 3.5, 2.0], &quot;medium&quot;: {&quot;attrs&quot;: {}, &quot;name&quot;: &quot;vacuum&quot;, &quot;frequency_range&quot;: null, &quot;allow_gain&quot;: false, &quot;nonlinear_spec&quot;: null, &quot;modulation_spec&quot;: null, &quot;heat_spec&quot;: null, &quot;type&quot;: &quot;Medium&quot;, &quot;permittivity&quot;: 1.0, &quot;conductivity&quot;: 0.0}, &quot;structures&quot;: [{&quot;attrs&quot;: {}, &quot;geometry&quot;: {&quot;attrs&quot;: {}, &quot;type&quot;: &quot;Box&quot;, &quot;center&quot;: [0.0, 0.0, 0.0], &quot;size&quot;: [10.0, 10.0, 0.2]}, &quot;name&quot;: &quot;GaAs slab&quot;, &quot;background_permittivity&quot;: null, &quot;type&quot;: &quot;Structure&quot;, &quot;medium&quot;: {&quot;attrs&quot;: {}, &quot;name&quot;: &quot;GaAs&quot;, &quot;frequency_range&quot;: null, &quot;allow_gain&quot;: false, &quot;nonlinear_spec&quot;: null, &quot;modulation_spec&quot;: null, &quot;heat_spec&quot;: null, &quot;type&quot;: &quot;Medium&quot;, &quot;permittivity&quot;: 12.6025, &quot;conductivity&quot;: 0.0}}, {&quot;attrs&quot;: {}, &quot;geometry&quot;: {&quot;attrs&quot;: {}, &quot;type&quot;: &quot;GeometryGroup&quot;, &quot;geometries&quot;: [{&quot;attrs&quot;: {}, &quot;type&quot;: &quot;PolySlab&quot;, &quot;axis&quot;: 2, &quot;sidewall_angle&quot;: 0.0, &quot;reference_plane&quot;: &quot;middle&quot;, &quot;slab_bounds&quot;: [-0.1, 0.1], &quot;dilation&quot;: 0.0, &quot;vertices&quot;: [[0.350629360911, 0.055534235088999996], [0.342903668333, 0.091880761011], [0.331421051407, 0.127220622089], [0.31630731608699997, 0.161166627408], [0.29772805162099997, 0.19334685743], [0.275886816317, 0.223408738823], [0.251022907321, 0.251022907321], [0.223408738823, 0.275886816317], [0.19334685743, 0.29772805162099997], [0.161166627408, 0.31630731608699997], [0.127220622089, 0.331421051407], [0.091880761011, 0.342903668333], [0.055534235088999996, 0.350629360911], [0.018579264466, 0.354513484838], [0.022242781403, 0.424417552271], [0.06355252096399999, 0.420221461945], [0.104255638998, 0.412014273705], [0.143963616104, 0.399874326806], [0.182297431696, 0.383917499467], [0.218891181837, 0.364296102798], [0.25339557186, 0.34119742695599997], [0.285481250462, 0.314841953422], [0.314841953422, 0.285481250462], [0.34119742695599997, 0.25339557186], [0.364296102798, 0.218891181837], [0.383917499467, 0.182297431696], [0.399874326806, 0.143963616104], [0.412014273705, 0.104255638998], [0.420221461945, 0.06355252096399999], [0.424417552271, 0.022242781403], [0.354513484838, 0.018579264466]]}, {&quot;attrs&quot;: {}, &quot;type&quot;: &quot;PolySlab&quot;, &quot;axis&quot;: 2, &quot;sidewall_angle&quot;: 0.0, &quot;reference_plane&quot;: &quot;middle&quot;, &quot;slab_bounds&quot;: [-0.1, 0.1], &quot;dilation&quot;: 0.0, &quot;vertices&quot;: [[-0.055534235088999996, 0.350629360911], [-0.091880761011, 0.342903668333], [-0.127220622089, 0.331421051407], [-0.161166627408, 0.31630731608699997], [-0.19334685743, 0.29772805162099997], [-0.223408738823, 0.275886816317], [-0.251022907321, 0.251022907321], [-0.275886816317, 0.223408738823], [-0.29772805162099997, 0.19334685743], [-0.31630731608699997, 0.161166627408], [-0.331421051407, 0.127220622089], [-0.342903668333, 0.091880761011], [-0.350629360911, 0.055534235088999996], [-0.354513484838, 0.018579264466], [-0.424417552271, 0.022242781403], [-0.420221461945, 0.06355252096399999], [-0.412014273705, 0.104255638998], [-0.399874326806, 0.143963616104], [-0.383917499467, 0.182297431696], [-0.364296102798, 0.218891181837], [-0.34119742695599997, 0.25339557186], [-0.314841953422, 0.285481250462], [-0.285481250462, 0.314841953422], [-0.25339557186, 0.34119742695599997], [-0.218891181837, 0.364296102798], [-0.182297431696, 0.383917499467], [-0.143963616104, 0.399874326806], [-0.104255638998, 0.412014273705], [-0.06355252096399999, 0.420221461945], [-0.022242781403, 0.424417552271], [-0.018579264466, 0.354513484838]]}, {&quot;attrs&quot;: {}, &quot;type&quot;: &quot;PolySlab&quot;, &quot;axis&quot;: 2, &quot;sidewall_angle&quot;: 0.0, &quot;reference_plane&quot;: &quot;middle&quot;, &quot;slab_bounds&quot;: [-0.1, 0.1], &quot;dilation&quot;: 0.0, &quot;vertices&quot;: [[-0.350629360911, -0.055534235088999996], [-0.342903668333, -0.091880761011], [-0.331421051407, -0.127220622089], [-0.31630731608699997, -0.161166627408], [-0.29772805162099997, -0.19334685743], [-0.275886816317, -0.223408738823], [-0.251022907321, -0.251022907321], [-0.223408738823, -0.275886816317], [-0.19334685743, -0.29772805162099997], [-0.161166627408, -0.31630731608699997], [-0.127220622089, -0.331421051407], [-0.091880761011, -0.342903668333], [-0.055534235088999996, -0.350629360911], [-0.018579264466, -0.354513484838], [-0.022242781403, -0.424417552271], [-0.06355252096399999, -0.420221461945], [-0.104255638998, -0.412014273705], [-0.143963616104, -0.399874326806], [-0.182297431696, -0.383917499467], [-0.218891181837, -0.364296102798], [-0.25339557186, -0.34119742695599997], [-0.285481250462, -0.314841953422], [-0.314841953422, -0.285481250462], [-0.34119742695599997, -0.25339557186], [-0.364296102798, -0.218891181837], [-0.383917499467, -0.182297431696], [-0.399874326806, -0.143963616104], [-0.412014273705, -0.104255638998], [-0.420221461945, -0.06355252096399999], [-0.424417552271, -0.022242781403], [-0.354513484838, -0.018579264466]]}, {&quot;attrs&quot;: {}, &quot;type&quot;: &quot;PolySlab&quot;, &quot;axis&quot;: 2, &quot;sidewall_angle&quot;: 0.0, &quot;reference_plane&quot;: &quot;middle&quot;, &quot;slab_bounds&quot;: [-0.1, 0.1], &quot;dilation&quot;: 0.0, &quot;vertices&quot;: [[0.055534235088999996, -0.350629360911], [0.091880761011, -0.342903668333], [0.127220622089, -0.331421051407], [0.161166627408, -0.31630731608699997], [0.19334685743, -0.29772805162099997], [0.223408738823, -0.275886816317], [0.251022907321, -0.251022907321], [0.275886816317, -0.223408738823], [0.29772805162099997, -0.19334685743], [0.31630731608699997, -0.161166627408], [0.331421051407, -0.127220622089], [0.342903668333, -0.091880761011], [0.350629360911, -0.055534235088999996], [0.354513484838, -0.018579264466], [0.424417552271, -0.022242781403], [0.420221461945, -0.06355252096399999], [0.412014273705, -0.104255638998], [0.399874326806, -0.143963616104], [0.383917499467, -0.182297431696], [0.364296102798, -0.218891181837], [0.34119742695599997, -0.25339557186], [0.314841953422, -0.285481250462], [0.285481250462, -0.314841953422], [0.25339557186, -0.34119742695599997], [0.218891181837, -0.364296102798], [0.182297431696, -0.383917499467], [0.143963616104, -0.399874326806], [0.104255638998, -0.412014273705], [0.06355252096399999, -0.420221461945], [0.022242781403, -0.424417552271], [0.018579264466, -0.354513484838]]}, {&quot;attrs&quot;: {}, &quot;type&quot;: &quot;PolySlab&quot;, &quot;axis&quot;: 2, &quot;sidewall_angle&quot;: 0.0, &quot;reference_plane&quot;: &quot;middle&quot;, &quot;slab_bounds&quot;: [-0.1, 0.1], &quot;dilation&quot;: 0.0, &quot;vertices&quot;: [[0.527393554441, 0.073568259012], [0.519096926452, 0.11872081093], [0.506942009592, 0.162990947329], [0.491019147643, 0.20604962181], [0.471446690374, 0.2475767924], [0.448370113882, 0.287263800326], [0.42196093930899997, 0.324815664182], [0.39241545798099997, 0.359953272436], [0.359953272436, 0.39241545798099997], [0.324815664182, 0.42196093930899997], [0.287263800326, 0.448370113882], [0.2475767924, 0.471446690374], [0.20604962181, 0.491019147643], [0.162990947329, 0.506942009592], [0.11872081093, 0.519096926452], [0.073568259012, 0.527393554441], [0.027868896699, 0.531770227257], [0.031532413636, 0.60167429469], [0.080379303353, 0.597114241659], [0.12869326029, 0.588595187507], [0.17615395209499998, 0.5761736154679999], [0.222446703756, 0.559931883347], [0.267264583962, 0.5399776774639999], [0.310310440133, 0.516443298673], [0.351298868604, 0.489484785174], [0.389958106917, 0.45928087794899997], [0.42603183566499997, 0.42603183566499997], [0.45928087794899997, 0.389958106917], [0.489484785174, 0.351298868604], [0.516443298673, 0.310310440133], [0.5399776774639999, 0.267264583962], [0.559931883347, 0.222446703756], [0.5761736154679999, 0.17615395209499998], [0.588595187507, 0.12869326029], [0.597114241659, 0.080379303353], [0.60167429469, 0.031532413636], [0.531770227257, 0.027868896699]]}, {&quot;attrs&quot;: {}, &quot;type&quot;: &quot;PolySlab&quot;, &quot;axis&quot;: 2, &quot;sidewall_angle&quot;: 0.0, &quot;reference_plane&quot;: &quot;middle&quot;, &quot;slab_bounds&quot;: [-0.1, 0.1], &quot;dilation&quot;: 0.0, &quot;vertices&quot;: [[-0.073568259012, 0.527393554441], [-0.11872081093, 0.519096926452], [-0.162990947329, 0.506942009592], [-0.20604962181, 0.491019147643], [-0.2475767924, 0.471446690374], [-0.287263800326, 0.448370113882], [-0.324815664182, 0.42196093930899997], [-0.359953272436, 0.39241545798099997], [-0.39241545798099997, 0.359953272436], [-0.42196093930899997, 0.324815664182], [-0.448370113882, 0.287263800326], [-0.471446690374, 0.2475767924], [-0.491019147643, 0.20604962181], [-0.506942009592, 0.162990947329], [-0.519096926452, 0.11872081093], [-0.527393554441, 0.073568259012], [-0.531770227257, 0.027868896699], [-0.60167429469, 0.031532413636], [-0.597114241659, 0.080379303353], [-0.588595187507, 0.12869326029], [-0.5761736154679999, 0.17615395209499998], [-0.559931883347, 0.222446703756], [-0.5399776774639999, 0.267264583962], [-0.516443298673, 0.310310440133], [-0.489484785174, 0.351298868604], [-0.45928087794899997, 0.389958106917], [-0.42603183566499997, 0.42603183566499997], [-0.389958106917, 0.45928087794899997], [-0.351298868604, 0.489484785174], [-0.310310440133, 0.516443298673], [-0.267264583962, 0.5399776774639999], [-0.222446703756, 0.559931883347], [-0.17615395209499998, 0.5761736154679999], [-0.12869326029, 0.588595187507], [-0.080379303353, 0.597114241659], [-0.031532413636, 0.60167429469], [-0.027868896699, 0.531770227257]]}, {&quot;attrs&quot;: {}, &quot;type&quot;: &quot;PolySlab&quot;, &quot;axis&quot;: 2, &quot;sidewall_angle&quot;: 0.0, &quot;reference_plane&quot;: &quot;middle&quot;, &quot;slab_bounds&quot;: [-0.1, 0.1], &quot;dilation&quot;: 0.0, &quot;vertices&quot;: [[-0.527393554441, -0.073568259012], [-0.519096926452, -0.11872081093], [-0.506942009592, -0.162990947329], [-0.491019147643, -0.20604962181], [-0.471446690374, -0.2475767924], [-0.448370113882, -0.287263800326], [-0.42196093930899997, -0.324815664182], [-0.39241545798099997, -0.359953272436], [-0.359953272436, -0.39241545798099997], [-0.324815664182, -0.42196093930899997], [-0.287263800326, -0.448370113882], [-0.2475767924, -0.471446690374], [-0.20604962181, -0.491019147643], [-0.162990947329, -0.506942009592], [-0.11872081093, -0.519096926452], [-0.073568259012, -0.527393554441], [-0.027868896699, -0.531770227257], [-0.031532413636, -0.60167429469], [-0.080379303353, -0.597114241659], [-0.12869326029, -0.588595187507], [-0.17615395209499998, -0.5761736154679999], [-0.222446703756, -0.559931883347], [-0.267264583962, -0.5399776774639999], [-0.310310440133, -0.516443298673], [-0.351298868604, -0.489484785174], [-0.389958106917, -0.45928087794899997], [-0.42603183566499997, -0.42603183566499997], [-0.45928087794899997, -0.389958106917], [-0.489484785174, -0.351298868604], [-0.516443298673, -0.310310440133], [-0.5399776774639999, -0.267264583962], [-0.559931883347, -0.222446703756], [-0.5761736154679999, -0.17615395209499998], [-0.588595187507, -0.12869326029], [-0.597114241659, -0.080379303353], [-0.60167429469, -0.031532413636], [-0.531770227257, -0.027868896699]]}, {&quot;attrs&quot;: {}, &quot;type&quot;: &quot;PolySlab&quot;, &quot;axis&quot;: 2, &quot;sidewall_angle&quot;: 0.0, &quot;reference_plane&quot;: &quot;middle&quot;, &quot;slab_bounds&quot;: [-0.1, 0.1], &quot;dilation&quot;: 0.0, &quot;vertices&quot;: [[0.073568259012, -0.527393554441], [0.11872081093, -0.519096926452], [0.162990947329, -0.506942009592], [0.20604962181, -0.491019147643], [0.2475767924, -0.471446690374], [0.287263800326, -0.448370113882], [0.324815664182, -0.42196093930899997], [0.359953272436, -0.39241545798099997], [0.39241545798099997, -0.359953272436], [0.42196093930899997, -0.324815664182], [0.448370113882, -0.287263800326], [0.471446690374, -0.2475767924], [0.491019147643, -0.20604962181], [0.506942009592, -0.162990947329], [0.519096926452, -0.11872081093], [0.527393554441, -0.073568259012], [0.531770227257, -0.027868896699], [0.60167429469, -0.031532413636], [0.597114241659, -0.080379303353], [0.588595187507, -0.12869326029], [0.5761736154679999, -0.17615395209499998], [0.559931883347, -0.222446703756], [0.5399776774639999, -0.267264583962], [0.516443298673, -0.310310440133], [0.489484785174, -0.351298868604], [0.45928087794899997, -0.389958106917], [0.42603183566499997, -0.42603183566499997], [0.389958106917, -0.45928087794899997], [0.351298868604, -0.489484785174], [0.310310440133, -0.516443298673], [0.267264583962, -0.5399776774639999], [0.222446703756, -0.559931883347], [0.17615395209499998, -0.5761736154679999], [0.12869326029, -0.588595187507], [0.080379303353, -0.597114241659], [0.031532413636, -0.60167429469], [0.027868896699, -0.531770227257]]}, {&quot;attrs&quot;: {}, &quot;type&quot;: &quot;PolySlab&quot;, &quot;axis&quot;: 2, &quot;sidewall_angle&quot;: 0.0, &quot;reference_plane&quot;: &quot;middle&quot;, &quot;slab_bounds&quot;: [-0.1, 0.1], &quot;dilation&quot;: 0.0, &quot;vertices&quot;: [[0.704401437933, 0.08898659583099999], [0.695992533981, 0.140336711669], [0.683845422426, 0.190933072637], [0.668025345958, 0.240503923374], [0.648617274926, 0.288783016584], [0.625725450966, 0.33551104305699997], [0.599472827106, 0.380437024435], [0.570000407386, 0.423319661226], [0.537466489513, 0.463928628833], [0.502045814642, 0.502045814642], [0.463928628833, 0.537466489513], [0.423319661226, 0.570000407386], [0.380437024435, 0.599472827106], [0.33551104305699997, 0.625725450966], [0.288783016584, 0.648617274926], [0.240503923374, 0.668025345958], [0.190933072637, 0.683845422426], [0.140336711669, 0.695992533981], [0.08898659583099999, 0.704401437933], [0.037158528932, 0.709026969676], [0.040822045869, 0.778931037109], [0.09775992218, 0.773849467025], [0.154172725496, 0.764611516205], [0.20975746007999999, 0.751266802102], [0.26421557779099997, 0.733886999784], [0.317254581599, 0.7125654569609999], [0.368589596598, 0.687416692611], [0.417944900084, 0.658575781892], [0.465055402473, 0.626197630649], [0.509668071112, 0.590456143408], [0.5515432893259999, 0.5515432893259999], [0.590456143408, 0.509668071112], [0.626197630649, 0.465055402473], [0.658575781892, 0.417944900084], [0.687416692611, 0.368589596598], [0.7125654569609999, 0.317254581599], [0.733886999784, 0.26421557779099997], [0.751266802102, 0.20975746007999999], [0.764611516205, 0.154172725496], [0.773849467025, 0.09775992218], [0.778931037109, 0.040822045869], [0.709026969676, 0.037158528932]]}, {&quot;attrs&quot;: {}, &quot;type&quot;: &quot;PolySlab&quot;, &quot;axis&quot;: 2, &quot;sidewall_angle&quot;: 0.0, &quot;reference_plane&quot;: &quot;middle&quot;, &quot;slab_bounds&quot;: [-0.1, 0.1], &quot;dilation&quot;: 0.0, &quot;vertices&quot;: [[-0.08898659583099999, 0.704401437933], [-0.140336711669, 0.695992533981], [-0.190933072637, 0.683845422426], [-0.240503923374, 0.668025345958], [-0.288783016584, 0.648617274926], [-0.33551104305699997, 0.625725450966], [-0.380437024435, 0.599472827106], [-0.423319661226, 0.570000407386], [-0.463928628833, 0.537466489513], [-0.502045814642, 0.502045814642], [-0.537466489513, 0.463928628833], [-0.570000407386, 0.423319661226], [-0.599472827106, 0.380437024435], [-0.625725450966, 0.33551104305699997], [-0.648617274926, 0.288783016584], [-0.668025345957, 0.240503923374], [-0.683845422426, 0.190933072637], [-0.695992533981, 0.140336711669], [-0.704401437933, 0.08898659583099999], [-0.709026969676, 0.037158528932], [-0.778931037109, 0.040822045869], [-0.773849467025, 0.09775992218], [-0.764611516205, 0.154172725496], [-0.751266802102, 0.20975746007999999], [-0.733886999784, 0.26421557779099997], [-0.7125654569609999, 0.317254581599], [-0.687416692611, 0.368589596598], [-0.658575781892, 0.417944900084], [-0.626197630649, 0.465055402473], [-0.590456143408, 0.509668071112], [-0.5515432893259999, 0.5515432893259999], [-0.509668071112, 0.590456143408], [-0.465055402473, 0.626197630649], [-0.417944900084, 0.658575781892], [-0.368589596598, 0.687416692611], [-0.317254581599, 0.7125654569609999], [-0.26421557779099997, 0.733886999784], [-0.20975746007999999, 0.751266802102], [-0.154172725496, 0.764611516205], [-0.09775992218, 0.773849467025], [-0.040822045869, 0.778931037109], [-0.037158528932, 0.709026969676]]}, {&quot;attrs&quot;: {}, &quot;type&quot;: &quot;PolySlab&quot;, &quot;axis&quot;: 2, &quot;sidewall_angle&quot;: 0.0, &quot;reference_plane&quot;: &quot;middle&quot;, &quot;slab_bounds&quot;: [-0.1, 0.1], &quot;dilation&quot;: 0.0, &quot;vertices&quot;: [[-0.704401437933, -0.08898659583099999], [-0.695992533981, -0.140336711669], [-0.683845422426, -0.190933072637], [-0.668025345958, -0.240503923374], [-0.648617274926, -0.288783016584], [-0.625725450966, -0.33551104305699997], [-0.599472827106, -0.380437024435], [-0.570000407386, -0.423319661226], [-0.537466489513, -0.463928628833], [-0.502045814642, -0.502045814642], [-0.463928628833, -0.537466489513], [-0.423319661226, -0.570000407386], [-0.380437024435, -0.599472827106], [-0.33551104305699997, -0.625725450966], [-0.288783016584, -0.648617274926], [-0.240503923374, -0.668025345958], [-0.190933072637, -0.683845422426], [-0.140336711669, -0.695992533981], [-0.08898659583099999, -0.704401437933], [-0.037158528932, -0.709026969676], [-0.040822045869, -0.778931037109], [-0.09775992218, -0.773849467025], [-0.154172725496, -0.764611516205], [-0.20975746007999999, -0.751266802102], [-0.26421557779099997, -0.733886999784], [-0.317254581599, -0.7125654569609999], [-0.368589596598, -0.687416692611], [-0.417944900084, -0.658575781892], [-0.465055402473, -0.626197630649], [-0.509668071112, -0.590456143408], [-0.5515432893259999, -0.5515432893259999], [-0.590456143408, -0.509668071112], [-0.626197630649, -0.465055402473], [-0.658575781892, -0.417944900084], [-0.687416692611, -0.368589596598], [-0.7125654569609999, -0.317254581599], [-0.733886999784, -0.26421557779099997], [-0.751266802102, -0.20975746007999999], [-0.764611516205, -0.154172725496], [-0.773849467025, -0.09775992218], [-0.778931037109, -0.040822045869], [-0.709026969676, -0.037158528932]]}, {&quot;attrs&quot;: {}, &quot;type&quot;: &quot;PolySlab&quot;, &quot;axis&quot;: 2, &quot;sidewall_angle&quot;: 0.0, &quot;reference_plane&quot;: &quot;middle&quot;, &quot;slab_bounds&quot;: [-0.1, 0.1], &quot;dilation&quot;: 0.0, &quot;vertices&quot;: [[0.08898659583099999, -0.704401437933], [0.140336711669, -0.695992533981], [0.190933072637, -0.683845422426], [0.240503923374, -0.668025345957], [0.288783016584, -0.648617274926], [0.33551104305699997, -0.625725450966], [0.380437024435, -0.599472827106], [0.423319661226, -0.570000407386], [0.463928628833, -0.537466489513], [0.502045814642, -0.502045814642], [0.537466489513, -0.463928628833], [0.570000407386, -0.423319661226], [0.599472827106, -0.380437024435], [0.625725450966, -0.33551104305699997], [0.648617274926, -0.288783016584], [0.668025345958, -0.240503923374], [0.683845422426, -0.190933072637], [0.695992533981, -0.140336711669], [0.704401437933, -0.08898659583099999], [0.709026969676, -0.037158528932], [0.778931037109, -0.040822045869], [0.773849467025, -0.09775992218], [0.764611516205, -0.154172725496], [0.751266802102, -0.20975746007999999], [0.733886999784, -0.26421557779099997], [0.7125654569609999, -0.317254581599], [0.687416692611, -0.368589596598], [0.658575781892, -0.417944900084], [0.626197630649, -0.465055402473], [0.590456143408, -0.509668071112], [0.5515432893259999, -0.5515432893259999], [0.509668071112, -0.590456143408], [0.465055402473, -0.626197630649], [0.417944900084, -0.658575781892], [0.368589596598, -0.687416692611], [0.317254581599, -0.7125654569609999], [0.26421557779099997, -0.733886999784], [0.20975746007999999, -0.751266802102], [0.154172725496, -0.764611516205], [0.09775992218, -0.773849467025], [0.040822045869, -0.778931037109], [0.037158528932, -0.709026969676]]}, {&quot;attrs&quot;: {}, &quot;type&quot;: &quot;PolySlab&quot;, &quot;axis&quot;: 2, &quot;sidewall_angle&quot;: 0.0, &quot;reference_plane&quot;: &quot;middle&quot;, &quot;slab_bounds&quot;: [-0.1, 0.1], &quot;dilation&quot;: 0.0, &quot;vertices&quot;: [[0.881223497648, 0.10536316810799999], [0.872251333263, 0.163810444175], [0.859407048404, 0.221530528719], [0.842747661747, 0.27826718926099997], [0.822347128071, 0.333768558966], [0.798296009946, 0.387788254728], [0.770701075712, 0.44008647093], [0.73968482551, 0.490431043991], [0.705384947471, 0.538598482992], [0.667953706494, 0.584374961802], [0.627557268303, 0.627557268303], [0.584374961802, 0.667953706494], [0.538598482992, 0.705384947471], [0.490431043991, 0.73968482551], [0.44008647093, 0.770701075712], [0.387788254728, 0.798296009946], [0.333768558966, 0.822347128071], [0.27826718926099997, 0.842747661747], [0.221530528719, 0.859407048404], [0.163810444175, 0.872251333263], [0.10536316810799999, 0.881223497648], [0.046448161166, 0.886283712095], [0.050111678103, 0.9561877795279999], [0.110918403312, 0.9510538143589999], [0.17127460840199998, 0.9420569295519999], [0.230935143028, 0.929233667984], [0.289657682469, 0.912636114225], [0.34720371188099997, 0.892331682984], [0.403339495083, 0.868402845289], [0.457837023926, 0.840946793515], [0.510474944402, 0.810075046608], [0.561039455721, 0.775912997136], [0.609325178712, 0.738599401968], [0.655135990017, 0.698285818691], [0.698285818691, 0.655135990017], [0.738599401968, 0.609325178712], [0.775912997136, 0.561039455721], [0.810075046608, 0.510474944402], [0.840946793515, 0.457837023926], [0.868402845289, 0.403339495083], [0.892331682984, 0.34720371188099997], [0.912636114225, 0.289657682469], [0.929233667984, 0.230935143028], [0.9420569295519999, 0.17127460840199998], [0.9510538143589999, 0.110918403312], [0.9561877795279999, 0.050111678103], [0.886283712095, 0.046448161166]]}, {&quot;attrs&quot;: {}, &quot;type&quot;: &quot;PolySlab&quot;, &quot;axis&quot;: 2, &quot;sidewall_angle&quot;: 0.0, &quot;reference_plane&quot;: &quot;middle&quot;, &quot;slab_bounds&quot;: [-0.1, 0.1], &quot;dilation&quot;: 0.0, &quot;vertices&quot;: [[-0.10536316810799999, 0.881223497648], [-0.163810444175, 0.872251333263], [-0.221530528719, 0.859407048404], [-0.27826718926099997, 0.842747661747], [-0.333768558966, 0.822347128071], [-0.387788254728, 0.798296009946], [-0.44008647093, 0.770701075712], [-0.490431043991, 0.73968482551], [-0.538598482992, 0.705384947471], [-0.584374961802, 0.667953706494], [-0.627557268303, 0.627557268303], [-0.667953706494, 0.584374961802], [-0.705384947471, 0.538598482992], [-0.73968482551, 0.490431043991], [-0.770701075712, 0.44008647093], [-0.798296009946, 0.387788254728], [-0.822347128071, 0.333768558966], [-0.842747661747, 0.27826718926099997], [-0.859407048404, 0.221530528719], [-0.872251333263, 0.163810444175], [-0.881223497648, 0.10536316810799999], [-0.886283712095, 0.046448161166], [-0.9561877795279999, 0.050111678103], [-0.9510538143589999, 0.110918403312], [-0.9420569295519999, 0.17127460840199998], [-0.929233667984, 0.230935143028], [-0.912636114225, 0.289657682469], [-0.892331682984, 0.34720371188099997], [-0.868402845289, 0.403339495083], [-0.840946793515, 0.457837023926], [-0.810075046608, 0.510474944402], [-0.775912997136, 0.561039455721], [-0.738599401968, 0.609325178712], [-0.698285818691, 0.655135990017], [-0.655135990017, 0.698285818691], [-0.609325178712, 0.738599401968], [-0.561039455721, 0.775912997136], [-0.510474944402, 0.810075046608], [-0.457837023926, 0.840946793515], [-0.403339495083, 0.868402845289], [-0.34720371188099997, 0.892331682984], [-0.289657682469, 0.912636114225], [-0.230935143028, 0.929233667984], [-0.17127460840199998, 0.9420569295519999], [-0.110918403312, 0.9510538143589999], [-0.050111678103, 0.9561877795279999], [-0.046448161166, 0.886283712095]]}, {&quot;attrs&quot;: {}, &quot;type&quot;: &quot;PolySlab&quot;, &quot;axis&quot;: 2, &quot;sidewall_angle&quot;: 0.0, &quot;reference_plane&quot;: &quot;middle&quot;, &quot;slab_bounds&quot;: [-0.1, 0.1], &quot;dilation&quot;: 0.0, &quot;vertices&quot;: [[-0.881223497648, -0.10536316810799999], [-0.872251333263, -0.163810444175], [-0.859407048404, -0.221530528719], [-0.842747661747, -0.27826718926099997], [-0.822347128071, -0.333768558966], [-0.798296009946, -0.387788254728], [-0.770701075712, -0.44008647093], [-0.73968482551, -0.490431043991], [-0.705384947471, -0.538598482992], [-0.667953706494, -0.584374961802], [-0.627557268303, -0.627557268303], [-0.584374961802, -0.667953706494], [-0.538598482992, -0.705384947471], [-0.490431043991, -0.73968482551], [-0.44008647093, -0.770701075712], [-0.387788254728, -0.798296009946], [-0.333768558966, -0.822347128071], [-0.27826718926099997, -0.842747661747], [-0.221530528719, -0.859407048404], [-0.163810444175, -0.872251333263], [-0.10536316810799999, -0.881223497648], [-0.046448161166, -0.886283712095], [-0.050111678103, -0.9561877795279999], [-0.110918403312, -0.9510538143589999], [-0.17127460840199998, -0.9420569295519999], [-0.230935143028, -0.929233667984], [-0.289657682469, -0.912636114225], [-0.34720371188099997, -0.892331682984], [-0.403339495083, -0.868402845289], [-0.457837023926, -0.840946793515], [-0.510474944402, -0.810075046608], [-0.561039455721, -0.775912997136], [-0.609325178712, -0.738599401968], [-0.655135990017, -0.698285818691], [-0.698285818691, -0.655135990017], [-0.738599401968, -0.609325178712], [-0.775912997136, -0.561039455721], [-0.810075046608, -0.510474944402], [-0.840946793515, -0.457837023926], [-0.868402845289, -0.403339495083], [-0.892331682984, -0.34720371188099997], [-0.912636114225, -0.289657682469], [-0.929233667984, -0.230935143028], [-0.9420569295519999, -0.17127460840199998], [-0.9510538143589999, -0.110918403312], [-0.9561877795279999, -0.050111678103], [-0.886283712095, -0.046448161166]]}, {&quot;attrs&quot;: {}, &quot;type&quot;: &quot;PolySlab&quot;, &quot;axis&quot;: 2, &quot;sidewall_angle&quot;: 0.0, &quot;reference_plane&quot;: &quot;middle&quot;, &quot;slab_bounds&quot;: [-0.1, 0.1], &quot;dilation&quot;: 0.0, &quot;vertices&quot;: [[0.10536316810799999, -0.881223497648], [0.163810444175, -0.872251333263], [0.221530528719, -0.859407048404], [0.27826718926099997, -0.842747661747], [0.333768558966, -0.822347128071], [0.387788254728, -0.798296009946], [0.44008647093, -0.770701075712], [0.490431043991, -0.73968482551], [0.538598482992, -0.705384947471], [0.584374961802, -0.667953706494], [0.627557268303, -0.627557268303], [0.667953706494, -0.584374961802], [0.705384947471, -0.538598482992], [0.73968482551, -0.490431043991], [0.770701075712, -0.44008647093], [0.798296009946, -0.387788254728], [0.822347128071, -0.333768558966], [0.842747661747, -0.27826718926099997], [0.859407048404, -0.221530528719], [0.872251333263, -0.163810444175], [0.881223497648, -0.10536316810799999], [0.886283712095, -0.046448161166], [0.9561877795279999, -0.050111678103], [0.9510538143589999, -0.110918403312], [0.9420569295519999, -0.17127460840199998], [0.929233667984, -0.230935143028], [0.912636114225, -0.289657682469], [0.892331682984, -0.34720371188099997], [0.868402845289, -0.403339495083], [0.840946793515, -0.457837023926], [0.810075046608, -0.510474944402], [0.775912997136, -0.561039455721], [0.738599401968, -0.609325178712], [0.698285818691, -0.655135990017], [0.655135990017, -0.698285818691], [0.609325178712, -0.738599401968], [0.561039455721, -0.775912997136], [0.510474944402, -0.810075046608], [0.457837023926, -0.840946793515], [0.403339495083, -0.868402845289], [0.34720371188099997, -0.892331682984], [0.289657682469, -0.912636114225], [0.230935143028, -0.929233667984], [0.17127460840199998, -0.9420569295519999], [0.110918403312, -0.9510538143589999], [0.050111678103, -0.9561877795279999], [0.046448161166, -0.886283712095]]}, {&quot;attrs&quot;: {}, &quot;type&quot;: &quot;PolySlab&quot;, &quot;axis&quot;: 2, &quot;sidewall_angle&quot;: 0.0, &quot;reference_plane&quot;: &quot;middle&quot;, &quot;slab_bounds&quot;: [-0.1, 0.1], &quot;dilation&quot;: 0.0, &quot;vertices&quot;: [[1.058154026296, 0.120561422663], [1.048820256958, 0.184935309215], [1.035573965224, 0.248619312507], [1.018464565101, 0.31137586553], [0.99755588155, 0.37297086104099997], [0.972925912389, 0.433174524876], [0.944666537335, 0.491762273095], [0.912883175248, 0.548515549779], [0.877694390882, 0.603222642325], [0.839231452591, 0.655679471222], [0.79763784264, 0.70569035135], [0.753068721964, 0.753068721964], [0.70569035135, 0.79763784264], [0.655679471222, 0.839231452591], [0.603222642325, 0.877694390882], [0.548515549779, 0.912883175248], [0.491762273095, 0.944666537335], [0.433174524876, 0.972925912389], [0.37297086104099997, 0.99755588155], [0.31137586553, 1.018464565101], [0.248619312507, 1.035573965224], [0.184935309215, 1.048820256958], [0.120561422663, 1.058154026296], [0.055737793399, 1.063540454514], [0.059401310336, 1.1334445219459999], [0.12572976597899999, 1.128014639066], [0.19162595974899999, 1.118706615494], [0.256863338991, 1.105552452434], [0.32121761607, 1.088597374205], [0.384467539478, 1.067899672763], [0.446395654501, 1.043530507289], [0.506789050831, 1.015573659543], [0.56544009456, 0.984125245822], [0.62214714203, 0.9492933865059999], [0.676715233086, 0.911197834342], [0.728956761355, 0.869969562729], [0.778692119243, 0.825750315427], [0.825750315427, 0.778692119243], [0.869969562729, 0.728956761355], [0.911197834342, 0.676715233086], [0.9492933865059999, 0.62214714203], [0.984125245822, 0.56544009456], [1.015573659543, 0.506789050831], [1.043530507289, 0.446395654501], [1.067899672763, 0.384467539478], [1.088597374205, 0.32121761607], [1.105552452434, 0.256863338991], [1.118706615494, 0.19162595974899999], [1.128014639066, 0.12572976597899999], [1.1334445219459999, 0.059401310336], [1.063540454514, 0.055737793399]]}, {&quot;attrs&quot;: {}, &quot;type&quot;: &quot;PolySlab&quot;, &quot;axis&quot;: 2, &quot;sidewall_angle&quot;: 0.0, &quot;reference_plane&quot;: &quot;middle&quot;, &quot;slab_bounds&quot;: [-0.1, 0.1], &quot;dilation&quot;: 0.0, &quot;vertices&quot;: [[-0.120561422663, 1.058154026296], [-0.184935309215, 1.048820256958], [-0.248619312507, 1.035573965224], [-0.31137586553, 1.018464565101], [-0.37297086104099997, 0.99755588155], [-0.433174524876, 0.972925912389], [-0.491762273095, 0.944666537335], [-0.548515549779, 0.912883175248], [-0.603222642325, 0.877694390882], [-0.655679471222, 0.839231452591], [-0.70569035135, 0.79763784264], [-0.753068721964, 0.753068721964], [-0.79763784264, 0.70569035135], [-0.839231452591, 0.655679471222], [-0.877694390882, 0.603222642325], [-0.912883175248, 0.548515549779], [-0.944666537335, 0.491762273095], [-0.972925912389, 0.433174524876], [-0.99755588155, 0.37297086104099997], [-1.018464565101, 0.31137586553], [-1.035573965224, 0.248619312507], [-1.048820256958, 0.184935309215], [-1.058154026296, 0.120561422663], [-1.063540454514, 0.055737793399], [-1.1334445219459999, 0.059401310336], [-1.128014639066, 0.12572976597899999], [-1.118706615494, 0.19162595974899999], [-1.105552452434, 0.256863338991], [-1.088597374205, 0.32121761607], [-1.067899672763, 0.384467539478], [-1.043530507289, 0.446395654501], [-1.015573659543, 0.506789050831], [-0.984125245822, 0.56544009456], [-0.9492933865059999, 0.62214714203], [-0.911197834342, 0.676715233086], [-0.869969562729, 0.728956761355], [-0.825750315427, 0.778692119243], [-0.778692119243, 0.825750315427], [-0.728956761355, 0.869969562729], [-0.676715233086, 0.911197834342], [-0.62214714203, 0.9492933865059999], [-0.56544009456, 0.984125245822], [-0.506789050831, 1.015573659543], [-0.446395654501, 1.043530507289], [-0.384467539478, 1.067899672763], [-0.32121761607, 1.088597374205], [-0.256863338991, 1.105552452434], [-0.19162595974899999, 1.118706615494], [-0.12572976597899999, 1.128014639066], [-0.059401310336, 1.1334445219459999], [-0.055737793399, 1.063540454514]]}, {&quot;attrs&quot;: {}, &quot;type&quot;: &quot;PolySlab&quot;, &quot;axis&quot;: 2, &quot;sidewall_angle&quot;: 0.0, &quot;reference_plane&quot;: &quot;middle&quot;, &quot;slab_bounds&quot;: [-0.1, 0.1], &quot;dilation&quot;: 0.0, &quot;vertices&quot;: [[-1.058154026296, -0.120561422663], [-1.048820256958, -0.184935309215], [-1.035573965224, -0.248619312507], [-1.018464565101, -0.31137586553], [-0.99755588155, -0.37297086104099997], [-0.972925912389, -0.433174524876], [-0.944666537335, -0.491762273095], [-0.912883175248, -0.548515549779], [-0.877694390882, -0.603222642325], [-0.839231452591, -0.655679471222], [-0.79763784264, -0.70569035135], [-0.753068721964, -0.753068721964], [-0.70569035135, -0.79763784264], [-0.655679471222, -0.839231452591], [-0.603222642325, -0.877694390882], [-0.548515549779, -0.912883175248], [-0.491762273095, -0.944666537335], [-0.433174524876, -0.972925912389], [-0.37297086104099997, -0.99755588155], [-0.31137586553, -1.018464565101], [-0.248619312507, -1.035573965224], [-0.184935309215, -1.048820256958], [-0.120561422663, -1.058154026296], [-0.055737793399, -1.063540454514], [-0.059401310336, -1.1334445219459999], [-0.12572976597899999, -1.128014639066], [-0.19162595974899999, -1.118706615494], [-0.256863338991, -1.105552452434], [-0.32121761607, -1.088597374205], [-0.384467539478, -1.067899672763], [-0.446395654501, -1.043530507289], [-0.506789050831, -1.015573659543], [-0.56544009456, -0.984125245822], [-0.62214714203, -0.9492933865059999], [-0.676715233086, -0.911197834342], [-0.728956761355, -0.869969562729], [-0.778692119243, -0.825750315427], [-0.825750315427, -0.778692119243], [-0.869969562729, -0.728956761355], [-0.911197834342, -0.676715233086], [-0.9492933865059999, -0.62214714203], [-0.984125245822, -0.56544009456], [-1.015573659543, -0.506789050831], [-1.043530507289, -0.446395654501], [-1.067899672763, -0.384467539478], [-1.088597374205, -0.32121761607], [-1.105552452434, -0.256863338991], [-1.118706615494, -0.19162595974899999], [-1.128014639066, -0.12572976597899999], [-1.1334445219459999, -0.059401310336], [-1.063540454514, -0.055737793399]]}, {&quot;attrs&quot;: {}, &quot;type&quot;: &quot;PolySlab&quot;, &quot;axis&quot;: 2, &quot;sidewall_angle&quot;: 0.0, &quot;reference_plane&quot;: &quot;middle&quot;, &quot;slab_bounds&quot;: [-0.1, 0.1], &quot;dilation&quot;: 0.0, &quot;vertices&quot;: [[0.120561422663, -1.058154026296], [0.184935309215, -1.048820256958], [0.248619312507, -1.035573965224], [0.31137586553, -1.018464565101], [0.37297086104099997, -0.99755588155], [0.433174524876, -0.972925912389], [0.491762273095, -0.944666537335], [0.548515549779, -0.912883175248], [0.603222642325, -0.877694390882], [0.655679471222, -0.839231452591], [0.70569035135, -0.79763784264], [0.753068721964, -0.753068721964], [0.79763784264, -0.70569035135], [0.839231452591, -0.655679471222], [0.877694390882, -0.603222642325], [0.912883175248, -0.548515549779], [0.944666537335, -0.491762273095], [0.972925912389, -0.433174524876], [0.99755588155, -0.37297086104099997], [1.018464565101, -0.31137586553], [1.035573965224, -0.248619312507], [1.048820256958, -0.184935309215], [1.058154026296, -0.120561422663], [1.063540454514, -0.055737793399], [1.1334445219459999, -0.059401310336], [1.128014639066, -0.12572976597899999], [1.118706615494, -0.19162595974899999], [1.105552452434, -0.256863338991], [1.088597374205, -0.32121761607], [1.067899672763, -0.384467539478], [1.043530507289, -0.446395654501], [1.015573659543, -0.506789050831], [0.984125245822, -0.56544009456], [0.9492933865059999, -0.62214714203], [0.911197834342, -0.676715233086], [0.869969562729, -0.728956761355], [0.825750315427, -0.778692119243], [0.778692119243, -0.825750315427], [0.728956761355, -0.869969562729], [0.676715233086, -0.911197834342], [0.62214714203, -0.9492933865059999], [0.56544009456, -0.984125245822], [0.506789050831, -1.015573659543], [0.446395654501, -1.043530507289], [0.384467539478, -1.067899672763], [0.32121761607, -1.088597374205], [0.256863338991, -1.105552452434], [0.19162595974899999, -1.118706615494], [0.12572976597899999, -1.128014639066], [0.059401310336, -1.1334445219459999], [0.055737793399, -1.063540454514]]}, {&quot;attrs&quot;: {}, &quot;type&quot;: &quot;PolySlab&quot;, &quot;axis&quot;: 2, &quot;sidewall_angle&quot;: 0.0, &quot;reference_plane&quot;: &quot;middle&quot;, &quot;slab_bounds&quot;: [-0.1, 0.1], &quot;dilation&quot;: 0.0, &quot;vertices&quot;: [[1.235160331749, 0.13485253009599998], [1.225597244389, 0.204248976854], [1.212138333178, 0.272996174408], [1.194826380152, 0.34087559503799997], [1.173716415071, 0.407671469437], [1.148875540488, 0.473171472586], [1.120382718453, 0.537167398668], [1.088328519517, 0.599455822898], [1.052814834829, 0.659838748153], [1.013954552257, 0.718124234348], [0.971871197548, 0.774127008556], [0.9266985416769999, 0.827669053942], [0.878580175624, 0.878580175624], [0.827669053942, 0.9266985416769999], [0.774127008556, 0.971871197548], [0.718124234348, 1.013954552257], [0.659838748153, 1.052814834829], [0.599455822898, 1.088328519517], [0.537167398668, 1.120382718453], [0.473171472586, 1.148875540488], [0.407671469437, 1.173716415071], [0.34087559503799997, 1.194826380152], [0.272996174408, 1.212138333178], [0.204248976854, 1.225597244389], [0.13485253009599998, 1.235160331749], [0.065027425632, 1.240797196933], [0.068690942569, 1.310701264365], [0.13972467704, 1.3050414800399999], [0.210346549074, 1.295534862245], [0.280348388598, 1.282209433365], [0.34952385319, 1.2651044723859999], [0.417669036309, 1.244270399113], [0.48458306834799997, 1.219768625548], [0.550068708726, 1.191671374868], [0.613932927294, 1.1600614685369999], [0.675987473319, 1.125032082172], [0.736049430391, 1.086686470893], [0.793941755593, 1.045137664964], [0.849493801375, 1.000508136611], [0.902541818559, 0.952929439021], [0.952929439021, 0.902541818559], [1.000508136611, 0.849493801375], [1.045137664964, 0.793941755593], [1.086686470893, 0.736049430391], [1.125032082172, 0.675987473319], [1.1600614685369999, 0.613932927294], [1.191671374868, 0.550068708726], [1.219768625548, 0.48458306834799997], [1.244270399113, 0.417669036309], [1.2651044723859999, 0.34952385319], [1.282209433365, 0.280348388598], [1.295534862245, 0.210346549074], [1.3050414800399999, 0.13972467704], [1.310701264365, 0.068690942569], [1.240797196933, 0.065027425632]]}, {&quot;attrs&quot;: {}, &quot;type&quot;: &quot;PolySlab&quot;, &quot;axis&quot;: 2, &quot;sidewall_angle&quot;: 0.0, &quot;reference_plane&quot;: &quot;middle&quot;, &quot;slab_bounds&quot;: [-0.1, 0.1], &quot;dilation&quot;: 0.0, &quot;vertices&quot;: [[-0.13485253009599998, 1.235160331749], [-0.204248976854, 1.225597244389], [-0.272996174408, 1.212138333178], [-0.34087559503799997, 1.194826380152], [-0.407671469437, 1.173716415071], [-0.473171472586, 1.148875540488], [-0.537167398668, 1.120382718453], [-0.599455822898, 1.088328519517], [-0.659838748153, 1.052814834829], [-0.718124234348, 1.013954552257], [-0.774127008556, 0.971871197548], [-0.827669053942, 0.9266985416769999], [-0.878580175624, 0.878580175624], [-0.9266985416769999, 0.827669053942], [-0.971871197548, 0.774127008556], [-1.013954552257, 0.718124234348], [-1.052814834829, 0.659838748153], [-1.088328519517, 0.599455822898], [-1.120382718453, 0.537167398668], [-1.148875540488, 0.473171472586], [-1.173716415071, 0.407671469437], [-1.194826380152, 0.34087559503799997], [-1.212138333178, 0.272996174408], [-1.225597244389, 0.204248976854], [-1.235160331749, 0.13485253009599998], [-1.240797196933, 0.065027425632], [-1.310701264365, 0.068690942569], [-1.3050414800399999, 0.13972467704], [-1.295534862245, 0.210346549074], [-1.282209433365, 0.280348388598], [-1.2651044723859999, 0.34952385319], [-1.244270399113, 0.417669036309], [-1.219768625548, 0.48458306834799997], [-1.191671374868, 0.550068708726], [-1.1600614685369999, 0.613932927294], [-1.125032082172, 0.675987473319], [-1.086686470893, 0.736049430391], [-1.045137664964, 0.793941755593], [-1.000508136611, 0.849493801375], [-0.952929439021, 0.902541818559], [-0.902541818559, 0.952929439021], [-0.849493801375, 1.000508136611], [-0.793941755593, 1.045137664964], [-0.736049430391, 1.086686470893], [-0.675987473319, 1.125032082172], [-0.613932927294, 1.1600614685369999], [-0.550068708726, 1.191671374868], [-0.48458306834799997, 1.219768625548], [-0.417669036309, 1.244270399113], [-0.34952385319, 1.2651044723859999], [-0.280348388598, 1.282209433365], [-0.210346549074, 1.295534862245], [-0.13972467704, 1.3050414800399999], [-0.068690942569, 1.310701264365], [-0.065027425632, 1.240797196933]]}, {&quot;attrs&quot;: {}, &quot;type&quot;: &quot;PolySlab&quot;, &quot;axis&quot;: 2, &quot;sidewall_angle&quot;: 0.0, &quot;reference_plane&quot;: &quot;middle&quot;, &quot;slab_bounds&quot;: [-0.1, 0.1], &quot;dilation&quot;: 0.0, &quot;vertices&quot;: [[-1.235160331749, -0.13485253009599998], [-1.225597244389, -0.204248976854], [-1.212138333178, -0.272996174408], [-1.194826380152, -0.34087559503799997], [-1.173716415071, -0.407671469437], [-1.148875540488, -0.473171472586], [-1.120382718453, -0.537167398668], [-1.088328519517, -0.599455822898], [-1.052814834829, -0.659838748153], [-1.013954552257, -0.718124234348], [-0.971871197548, -0.774127008556], [-0.9266985416769999, -0.827669053942], [-0.878580175624, -0.878580175624], [-0.827669053942, -0.9266985416769999], [-0.774127008556, -0.971871197548], [-0.718124234348, -1.013954552257], [-0.659838748153, -1.052814834829], [-0.599455822898, -1.088328519517], [-0.537167398668, -1.120382718453], [-0.473171472586, -1.148875540488], [-0.407671469437, -1.173716415071], [-0.34087559503799997, -1.194826380152], [-0.272996174408, -1.212138333178], [-0.204248976854, -1.225597244389], [-0.13485253009599998, -1.235160331749], [-0.065027425632, -1.240797196933], [-0.068690942569, -1.310701264365], [-0.13972467704, -1.3050414800399999], [-0.210346549074, -1.295534862245], [-0.280348388598, -1.282209433365], [-0.34952385319, -1.2651044723859999], [-0.417669036309, -1.244270399113], [-0.48458306834799997, -1.219768625548], [-0.550068708726, -1.191671374868], [-0.613932927294, -1.1600614685369999], [-0.675987473319, -1.125032082172], [-0.736049430391, -1.086686470893], [-0.793941755593, -1.045137664964], [-0.849493801375, -1.000508136611], [-0.902541818559, -0.952929439021], [-0.952929439021, -0.902541818559], [-1.000508136611, -0.849493801375], [-1.045137664964, -0.793941755593], [-1.086686470893, -0.736049430391], [-1.125032082172, -0.675987473319], [-1.1600614685369999, -0.613932927294], [-1.191671374868, -0.550068708726], [-1.219768625548, -0.48458306834799997], [-1.244270399113, -0.417669036309], [-1.2651044723859999, -0.34952385319], [-1.282209433365, -0.280348388598], [-1.295534862245, -0.210346549074], [-1.3050414800399999, -0.13972467704], [-1.310701264365, -0.068690942569], [-1.240797196933, -0.065027425632]]}, {&quot;attrs&quot;: {}, &quot;type&quot;: &quot;PolySlab&quot;, &quot;axis&quot;: 2, &quot;sidewall_angle&quot;: 0.0, &quot;reference_plane&quot;: &quot;middle&quot;, &quot;slab_bounds&quot;: [-0.1, 0.1], &quot;dilation&quot;: 0.0, &quot;vertices&quot;: [[0.13485253009599998, -1.235160331749], [0.204248976854, -1.225597244389], [0.272996174408, -1.212138333178], [0.34087559503799997, -1.194826380152], [0.407671469437, -1.173716415071], [0.473171472586, -1.148875540488], [0.537167398668, -1.120382718453], [0.599455822898, -1.088328519517], [0.659838748153, -1.052814834829], [0.718124234348, -1.013954552257], [0.774127008556, -0.971871197548], [0.827669053942, -0.9266985416769999], [0.878580175624, -0.878580175624], [0.9266985416769999, -0.827669053942], [0.971871197548, -0.774127008556], [1.013954552257, -0.718124234348], [1.052814834829, -0.659838748153], [1.088328519517, -0.599455822898], [1.120382718453, -0.537167398668], [1.148875540488, -0.473171472586], [1.173716415071, -0.407671469437], [1.194826380152, -0.34087559503799997], [1.212138333178, -0.272996174408], [1.225597244389, -0.204248976854], [1.235160331749, -0.13485253009599998], [1.240797196933, -0.065027425632], [1.310701264365, -0.068690942569], [1.3050414800399999, -0.13972467704], [1.295534862245, -0.210346549074], [1.282209433365, -0.280348388598], [1.2651044723859999, -0.34952385319], [1.244270399113, -0.417669036309], [1.219768625548, -0.48458306834799997], [1.191671374868, -0.550068708726], [1.1600614685369999, -0.613932927294], [1.125032082172, -0.675987473319], [1.086686470893, -0.736049430391], [1.045137664964, -0.793941755593], [1.000508136611, -0.849493801375], [0.952929439021, -0.902541818559], [0.902541818559, -0.952929439021], [0.849493801375, -1.000508136611], [0.793941755593, -1.045137664964], [0.736049430391, -1.086686470893], [0.675987473319, -1.125032082172], [0.613932927294, -1.1600614685369999], [0.550068708726, -1.191671374868], [0.48458306834799997, -1.219768625548], [0.417669036309, -1.244270399113], [0.34952385319, -1.2651044723859999], [0.280348388598, -1.282209433365], [0.210346549074, -1.295534862245], [0.13972467704, -1.3050414800399999], [0.068690942569, -1.310701264365], [0.065027425632, -1.240797196933]]}, {&quot;attrs&quot;: {}, &quot;type&quot;: &quot;PolySlab&quot;, &quot;axis&quot;: 2, &quot;sidewall_angle&quot;: 0.0, &quot;reference_plane&quot;: &quot;middle&quot;, &quot;slab_bounds&quot;: [-0.1, 0.1], &quot;dilation&quot;: 0.0, &quot;vertices&quot;: [[1.412221091423, 0.14843041784], [1.4025174436449999, 0.222136940357], [1.388969593042, 0.295234600961], [1.3716146733299999, 0.367523044046], [1.350500253139, 0.43880413201199997], [1.3256842056259999, 0.508882488354], [1.297234549852, 0.577566033168], [1.265229264347, 0.6446665096299999], [1.229756073374, 0.71], [1.190912206483, 0.7733874297209999], [1.148804132012, 0.834655058255], [1.103547265269, 0.893634955291], [1.055265652178, 0.95016546103], [1.004091629285, 1.004091629285], [0.95016546103, 1.055265652178], [0.893634955291, 1.103547265269], [0.834655058255, 1.148804132012], [0.7733874297209999, 1.190912206483], [0.71, 1.229756073374], [0.6446665096299999, 1.265229264347], [0.577566033168, 1.297234549852], [0.508882488354, 1.3256842056259999], [0.43880413201199997, 1.350500253139], [0.367523044046, 1.3716146733299999], [0.295234600961, 1.388969593042], [0.222136940357, 1.4025174436449999], [0.14843041784, 1.412221091423], [0.074317057865, 1.4180539393509999], [0.077980574802, 1.487958006784], [0.155747410269, 1.4818376240989999], [0.23308735291, 1.471655627487], [0.309788419318, 1.457439925093], [0.385640377203, 1.439229481171], [0.46043532161899997, 1.41707420928], [0.533968244822, 1.391034835481], [0.606037598183, 1.361182731887], [0.676445844612, 1.327599721041], [0.745, 1.2903778516389999], [0.811512162172, 1.249619146239], [0.875800025916, 1.205435321619], [0.937687382664, 1.1579474825709999], [0.997004603475, 1.107285789961], [1.0535891039679999, 1.0535891039679999], [1.107285789961, 0.997004603475], [1.1579474825709999, 0.937687382664], [1.205435321619, 0.875800025916], [1.249619146239, 0.811512162172], [1.2903778516389999, 0.745], [1.327599721041, 0.676445844612], [1.361182731887, 0.606037598183], [1.391034835481, 0.533968244822], [1.41707420928, 0.46043532161899997], [1.439229481171, 0.385640377203], [1.457439925093, 0.309788419318], [1.471655627487, 0.23308735291], [1.4818376240989999, 0.155747410269], [1.487958006784, 0.077980574802], [1.4180539393509999, 0.074317057865]]}, {&quot;attrs&quot;: {}, &quot;type&quot;: &quot;PolySlab&quot;, &quot;axis&quot;: 2, &quot;sidewall_angle&quot;: 0.0, &quot;reference_plane&quot;: &quot;middle&quot;, &quot;slab_bounds&quot;: [-0.1, 0.1], &quot;dilation&quot;: 0.0, &quot;vertices&quot;: [[-0.14843041784, 1.412221091423], [-0.222136940357, 1.4025174436449999], [-0.295234600961, 1.388969593042], [-0.367523044046, 1.3716146733299999], [-0.43880413201199997, 1.350500253139], [-0.508882488354, 1.3256842056259999], [-0.577566033168, 1.297234549852], [-0.6446665096299999, 1.265229264347], [-0.71, 1.229756073374], [-0.7733874297209999, 1.190912206483], [-0.834655058255, 1.148804132012], [-0.893634955291, 1.103547265269], [-0.95016546103, 1.055265652178], [-1.004091629285, 1.004091629285], [-1.055265652178, 0.95016546103], [-1.103547265269, 0.893634955291], [-1.148804132012, 0.834655058255], [-1.190912206483, 0.7733874297209999], [-1.229756073374, 0.71], [-1.265229264347, 0.6446665096299999], [-1.297234549852, 0.577566033168], [-1.3256842056259999, 0.508882488354], [-1.350500253139, 0.43880413201199997], [-1.3716146733299999, 0.367523044046], [-1.388969593042, 0.295234600961], [-1.4025174436449999, 0.222136940357], [-1.412221091423, 0.14843041784], [-1.4180539393509999, 0.074317057865], [-1.487958006784, 0.077980574802], [-1.4818376240989999, 0.155747410269], [-1.471655627487, 0.23308735291], [-1.457439925093, 0.309788419318], [-1.439229481171, 0.385640377203], [-1.41707420928, 0.46043532161899997], [-1.391034835481, 0.533968244822], [-1.361182731887, 0.606037598183], [-1.327599721041, 0.676445844612], [-1.2903778516389999, 0.745], [-1.249619146239, 0.811512162172], [-1.205435321619, 0.875800025916], [-1.1579474825709999, 0.937687382664], [-1.107285789961, 0.997004603475], [-1.0535891039679999, 1.0535891039679999], [-0.997004603475, 1.107285789961], [-0.937687382664, 1.1579474825709999], [-0.875800025916, 1.205435321619], [-0.811512162172, 1.249619146239], [-0.745, 1.2903778516389999], [-0.676445844612, 1.327599721041], [-0.606037598183, 1.361182731887], [-0.533968244822, 1.391034835481], [-0.46043532161899997, 1.41707420928], [-0.385640377203, 1.439229481171], [-0.309788419318, 1.457439925093], [-0.23308735291, 1.471655627487], [-0.155747410269, 1.4818376240989999], [-0.077980574802, 1.487958006784], [-0.074317057865, 1.4180539393509999]]}, {&quot;attrs&quot;: {}, &quot;type&quot;: &quot;PolySlab&quot;, &quot;axis&quot;: 2, &quot;sidewall_angle&quot;: 0.0, &quot;reference_plane&quot;: &quot;middle&quot;, &quot;slab_bounds&quot;: [-0.1, 0.1], &quot;dilation&quot;: 0.0, &quot;vertices&quot;: [[-1.412221091423, -0.14843041784], [-1.4025174436449999, -0.222136940357], [-1.388969593042, -0.295234600961], [-1.3716146733299999, -0.367523044046], [-1.350500253139, -0.43880413201199997], [-1.3256842056259999, -0.508882488354], [-1.297234549852, -0.577566033168], [-1.265229264347, -0.6446665096299999], [-1.229756073374, -0.71], [-1.190912206483, -0.7733874297209999], [-1.148804132012, -0.834655058255], [-1.103547265269, -0.893634955291], [-1.055265652178, -0.95016546103], [-1.004091629285, -1.004091629285], [-0.95016546103, -1.055265652178], [-0.893634955291, -1.103547265269], [-0.834655058255, -1.148804132012], [-0.7733874297209999, -1.190912206483], [-0.71, -1.229756073374], [-0.6446665096299999, -1.265229264347], [-0.577566033168, -1.297234549852], [-0.508882488354, -1.3256842056259999], [-0.43880413201199997, -1.350500253139], [-0.367523044046, -1.3716146733299999], [-0.295234600961, -1.388969593042], [-0.222136940357, -1.4025174436449999], [-0.14843041784, -1.412221091423], [-0.074317057865, -1.4180539393509999], [-0.077980574802, -1.487958006784], [-0.155747410269, -1.4818376240989999], [-0.23308735291, -1.471655627487], [-0.309788419318, -1.457439925093], [-0.385640377203, -1.439229481171], [-0.46043532161899997, -1.41707420928], [-0.533968244822, -1.391034835481], [-0.606037598183, -1.361182731887], [-0.676445844612, -1.327599721041], [-0.745, -1.2903778516389999], [-0.811512162172, -1.249619146239], [-0.875800025916, -1.205435321619], [-0.937687382664, -1.1579474825709999], [-0.997004603475, -1.107285789961], [-1.0535891039679999, -1.0535891039679999], [-1.107285789961, -0.997004603475], [-1.1579474825709999, -0.937687382664], [-1.205435321619, -0.875800025916], [-1.249619146239, -0.811512162172], [-1.2903778516389999, -0.745], [-1.327599721041, -0.676445844612], [-1.361182731887, -0.606037598183], [-1.391034835481, -0.533968244822], [-1.41707420928, -0.46043532161899997], [-1.439229481171, -0.385640377203], [-1.457439925093, -0.309788419318], [-1.471655627487, -0.23308735291], [-1.4818376240989999, -0.155747410269], [-1.487958006784, -0.077980574802], [-1.4180539393509999, -0.074317057865]]}, {&quot;attrs&quot;: {}, &quot;type&quot;: &quot;PolySlab&quot;, &quot;axis&quot;: 2, &quot;sidewall_angle&quot;: 0.0, &quot;reference_plane&quot;: &quot;middle&quot;, &quot;slab_bounds&quot;: [-0.1, 0.1], &quot;dilation&quot;: 0.0, &quot;vertices&quot;: [[0.14843041784, -1.412221091423], [0.222136940357, -1.4025174436449999], [0.295234600961, -1.388969593042], [0.367523044046, -1.3716146733299999], [0.43880413201199997, -1.350500253139], [0.508882488354, -1.3256842056259999], [0.577566033168, -1.297234549852], [0.6446665096299999, -1.265229264347], [0.71, -1.229756073374], [0.7733874297209999, -1.190912206483], [0.834655058255, -1.148804132012], [0.893634955291, -1.103547265269], [0.95016546103, -1.055265652178], [1.004091629285, -1.004091629285], [1.055265652178, -0.95016546103], [1.103547265269, -0.893634955291], [1.148804132012, -0.834655058255], [1.190912206483, -0.7733874297209999], [1.229756073374, -0.71], [1.265229264347, -0.6446665096299999], [1.297234549852, -0.577566033168], [1.3256842056259999, -0.508882488354], [1.350500253139, -0.43880413201199997], [1.3716146733299999, -0.367523044046], [1.388969593042, -0.295234600961], [1.4025174436449999, -0.222136940357], [1.412221091423, -0.14843041784], [1.4180539393509999, -0.074317057865], [1.487958006784, -0.077980574802], [1.4818376240989999, -0.155747410269], [1.471655627487, -0.23308735291], [1.457439925093, -0.309788419318], [1.439229481171, -0.385640377203], [1.41707420928, -0.46043532161899997], [1.391034835481, -0.533968244822], [1.361182731887, -0.606037598183], [1.327599721041, -0.676445844612], [1.2903778516389999, -0.745], [1.249619146239, -0.811512162172], [1.205435321619, -0.875800025916], [1.1579474825709999, -0.937687382664], [1.107285789961, -0.997004603475], [1.0535891039679999, -1.0535891039679999], [0.997004603475, -1.107285789961], [0.937687382664, -1.1579474825709999], [0.875800025916, -1.205435321619], [0.811512162172, -1.249619146239], [0.745, -1.2903778516389999], [0.676445844612, -1.327599721041], [0.606037598183, -1.361182731887], [0.533968244822, -1.391034835481], [0.46043532161899997, -1.41707420928], [0.385640377203, -1.439229481171], [0.309788419318, -1.457439925093], [0.23308735291, -1.471655627487], [0.155747410269, -1.4818376240989999], [0.077980574802, -1.487958006784], [0.074317057865, -1.4180539393509999]]}]}, &quot;name&quot;: &quot;etch&quot;, &quot;background_permittivity&quot;: null, &quot;type&quot;: &quot;Structure&quot;, &quot;medium&quot;: {&quot;attrs&quot;: {}, &quot;name&quot;: &quot;air&quot;, &quot;frequency_range&quot;: null, &quot;allow_gain&quot;: false, &quot;nonlinear_spec&quot;: null, &quot;modulation_spec&quot;: null, &quot;heat_spec&quot;: null, &quot;type&quot;: &quot;Medium&quot;, &quot;permittivity&quot;: 1.0, &quot;conductivity&quot;: 0.0}}], &quot;symmetry&quot;: [-1, 1, 0], &quot;sources&quot;: [{&quot;attrs&quot;: {}, &quot;name&quot;: &quot;dipole_source&quot;, &quot;type&quot;: &quot;PointDipole&quot;, &quot;center&quot;: [0.0, 0.0, 0.0], &quot;size&quot;: [0, 0, 0], &quot;source_time&quot;: {&quot;attrs&quot;: {}, &quot;amplitude&quot;: 1.0, &quot;phase&quot;: 0.0, &quot;type&quot;: &quot;GaussianPulse&quot;, &quot;freq0&quot;: 302675000000000.0, &quot;fwidth&quot;: 144131000000000.0, &quot;offset&quot;: 5.0, &quot;remove_dc_component&quot;: true}, &quot;interpolate&quot;: true, &quot;confine_to_bounds&quot;: false, &quot;polarization&quot;: &quot;Ex&quot;}], &quot;boundary_spec&quot;: {&quot;attrs&quot;: {}, &quot;x&quot;: {&quot;attrs&quot;: {}, &quot;plus&quot;: {&quot;attrs&quot;: {}, &quot;name&quot;: null, &quot;type&quot;: &quot;PML&quot;, &quot;num_layers&quot;: 12, &quot;parameters&quot;: {&quot;attrs&quot;: {}, &quot;sigma_order&quot;: 3, &quot;sigma_min&quot;: 0.0, &quot;sigma_max&quot;: 1.5, &quot;type&quot;: &quot;PMLParams&quot;, &quot;kappa_order&quot;: 3, &quot;kappa_min&quot;: 1.0, &quot;kappa_max&quot;: 3.0, &quot;alpha_order&quot;: 1, &quot;alpha_min&quot;: 0.0, &quot;alpha_max&quot;: 0.0}}, &quot;minus&quot;: {&quot;attrs&quot;: {}, &quot;name&quot;: null, &quot;type&quot;: &quot;PML&quot;, &quot;num_layers&quot;: 12, &quot;parameters&quot;: {&quot;attrs&quot;: {}, &quot;sigma_order&quot;: 3, &quot;sigma_min&quot;: 0.0, &quot;sigma_max&quot;: 1.5, &quot;type&quot;: &quot;PMLParams&quot;, &quot;kappa_order&quot;: 3, &quot;kappa_min&quot;: 1.0, &quot;kappa_max&quot;: 3.0, &quot;alpha_order&quot;: 1, &quot;alpha_min&quot;: 0.0, &quot;alpha_max&quot;: 0.0}}, &quot;type&quot;: &quot;Boundary&quot;}, &quot;y&quot;: {&quot;attrs&quot;: {}, &quot;plus&quot;: {&quot;attrs&quot;: {}, &quot;name&quot;: null, &quot;type&quot;: &quot;PML&quot;, &quot;num_layers&quot;: 12, &quot;parameters&quot;: {&quot;attrs&quot;: {}, &quot;sigma_order&quot;: 3, &quot;sigma_min&quot;: 0.0, &quot;sigma_max&quot;: 1.5, &quot;type&quot;: &quot;PMLParams&quot;, &quot;kappa_order&quot;: 3, &quot;kappa_min&quot;: 1.0, &quot;kappa_max&quot;: 3.0, &quot;alpha_order&quot;: 1, &quot;alpha_min&quot;: 0.0, &quot;alpha_max&quot;: 0.0}}, &quot;minus&quot;: {&quot;attrs&quot;: {}, &quot;name&quot;: null, &quot;type&quot;: &quot;PML&quot;, &quot;num_layers&quot;: 12, &quot;parameters&quot;: {&quot;attrs&quot;: {}, &quot;sigma_order&quot;: 3, &quot;sigma_min&quot;: 0.0, &quot;sigma_max&quot;: 1.5, &quot;type&quot;: &quot;PMLParams&quot;, &quot;kappa_order&quot;: 3, &quot;kappa_min&quot;: 1.0, &quot;kappa_max&quot;: 3.0, &quot;alpha_order&quot;: 1, &quot;alpha_min&quot;: 0.0, &quot;alpha_max&quot;: 0.0}}, &quot;type&quot;: &quot;Boundary&quot;}, &quot;z&quot;: {&quot;attrs&quot;: {}, &quot;plus&quot;: {&quot;attrs&quot;: {}, &quot;name&quot;: null, &quot;type&quot;: &quot;PML&quot;, &quot;num_layers&quot;: 12, &quot;parameters&quot;: {&quot;attrs&quot;: {}, &quot;sigma_order&quot;: 3, &quot;sigma_min&quot;: 0.0, &quot;sigma_max&quot;: 1.5, &quot;type&quot;: &quot;PMLParams&quot;, &quot;kappa_order&quot;: 3, &quot;kappa_min&quot;: 1.0, &quot;kappa_max&quot;: 3.0, &quot;alpha_order&quot;: 1, &quot;alpha_min&quot;: 0.0, &quot;alpha_max&quot;: 0.0}}, &quot;minus&quot;: {&quot;attrs&quot;: {}, &quot;name&quot;: null, &quot;type&quot;: &quot;PML&quot;, &quot;num_layers&quot;: 12, &quot;parameters&quot;: {&quot;attrs&quot;: {}, &quot;sigma_order&quot;: 3, &quot;sigma_min&quot;: 0.0, &quot;sigma_max&quot;: 1.5, &quot;type&quot;: &quot;PMLParams&quot;, &quot;kappa_order&quot;: 3, &quot;kappa_min&quot;: 1.0, &quot;kappa_max&quot;: 3.0, &quot;alpha_order&quot;: 1, &quot;alpha_min&quot;: 0.0, &quot;alpha_max&quot;: 0.0}}, &quot;type&quot;: &quot;Boundary&quot;}, &quot;type&quot;: &quot;BoundarySpec&quot;}, &quot;monitors&quot;: [{&quot;attrs&quot;: {}, &quot;type&quot;: &quot;FieldTimeMonitor&quot;, &quot;center&quot;: [0.1, 0.1, 0.0], &quot;size&quot;: [0.0, 0.0, 0.0], &quot;name&quot;: &quot;time_monitor_1&quot;, &quot;interval_space&quot;: [1, 1, 1], &quot;colocate&quot;: true, &quot;start&quot;: 2e-13, &quot;stop&quot;: null, &quot;interval&quot;: 1, &quot;fields&quot;: [&quot;Ex&quot;, &quot;Ey&quot;, &quot;Ez&quot;, &quot;Hx&quot;, &quot;Hy&quot;, &quot;Hz&quot;]}, {&quot;attrs&quot;: {}, &quot;type&quot;: &quot;FieldTimeMonitor&quot;, &quot;center&quot;: [0.1, 0.2, 0.0], &quot;size&quot;: [0.0, 0.0, 0.0], &quot;name&quot;: &quot;time_monitor_2&quot;, &quot;interval_space&quot;: [1, 1, 1], &quot;colocate&quot;: true, &quot;start&quot;: 2e-13, &quot;stop&quot;: null, &quot;interval&quot;: 1, &quot;fields&quot;: [&quot;Ex&quot;, &quot;Ey&quot;, &quot;Ez&quot;, &quot;Hx&quot;, &quot;Hy&quot;, &quot;Hz&quot;]}, {&quot;attrs&quot;: {}, &quot;type&quot;: &quot;FieldTimeMonitor&quot;, &quot;center&quot;: [0.2, 0.2, 0.0], &quot;size&quot;: [0.0, 0.0, 0.0], &quot;name&quot;: &quot;time_monitor_3&quot;, &quot;interval_space&quot;: [1, 1, 1], &quot;colocate&quot;: true, &quot;start&quot;: 2e-13, &quot;stop&quot;: null, &quot;interval&quot;: 1, &quot;fields&quot;: [&quot;Ex&quot;, &quot;Ey&quot;, &quot;Ez&quot;, &quot;Hx&quot;, &quot;Hy&quot;, &quot;Hz&quot;]}, {&quot;attrs&quot;: {}, &quot;type&quot;: &quot;FieldTimeMonitor&quot;, &quot;center&quot;: [0.2, 0.1, 0.0], &quot;size&quot;: [0.0, 0.0, 0.0], &quot;name&quot;: &quot;time_monitor_4&quot;, &quot;interval_space&quot;: [1, 1, 1], &quot;colocate&quot;: true, &quot;start&quot;: 2e-13, &quot;stop&quot;: null, &quot;interval&quot;: 1, &quot;fields&quot;: [&quot;Ex&quot;, &quot;Ey&quot;, &quot;Ez&quot;, &quot;Hx&quot;, &quot;Hy&quot;, &quot;Hz&quot;]}], &quot;grid_spec&quot;: {&quot;attrs&quot;: {}, &quot;grid_x&quot;: {&quot;attrs&quot;: {}, &quot;type&quot;: &quot;UniformGrid&quot;, &quot;dl&quot;: 0.02}, &quot;grid_y&quot;: {&quot;attrs&quot;: {}, &quot;type&quot;: &quot;UniformGrid&quot;, &quot;dl&quot;: 0.02}, &quot;grid_z&quot;: {&quot;attrs&quot;: {}, &quot;type&quot;: &quot;UniformGrid&quot;, &quot;dl&quot;: 0.02}, &quot;wavelength&quot;: null, &quot;override_structures&quot;: [], &quot;snapping_points&quot;: [], &quot;type&quot;: &quot;GridSpec&quot;}, &quot;version&quot;: &quot;2.7.6&quot;, &quot;lumped_elements&quot;: [], &quot;subpixel&quot;: {&quot;attrs&quot;: {}, &quot;dielectric&quot;: {&quot;attrs&quot;: {}, &quot;type&quot;: &quot;PolarizedAveraging&quot;}, &quot;metal&quot;: {&quot;attrs&quot;: {}, &quot;type&quot;: &quot;Staircasing&quot;}, &quot;pec&quot;: {&quot;attrs&quot;: {}, &quot;type&quot;: &quot;PECConformal&quot;, &quot;timestep_reduction&quot;: 0.3}, &quot;type&quot;: &quot;SubpixelSpec&quot;}, &quot;simulation_type&quot;: null, &quot;post_norm&quot;: 1.0, &quot;courant&quot;: 0.99, &quot;normalize_index&quot;: 0, &quot;shutoff&quot;: 1e-07, &quot;run_time&quot;: 4e-12}\" />\n",
              "    <script>\n",
              "        \n",
              "        /**\n",
              "        * Simulation Viewer Injector\n",
              "        *\n",
              "        * Monitors the document for elements being added in the form:\n",
              "        *\n",
              "        *    <div class=\"simulation-viewer\" data-width=\"800\" data-height=\"800\" data-simulation=\"{...}\" />\n",
              "        *\n",
              "        * This script will then inject an iframe to the viewer application, and pass it the simulation data\n",
              "        * via the postMessage API on request. The script may be safely included multiple times, with only the\n",
              "        * configuration of the first started script (e.g. viewer URL) applying.\n",
              "        *\n",
              "        */\n",
              "        (function() {\n",
              "            const TARGET_CLASS = \"simulation-viewer\";\n",
              "            const ACTIVE_CLASS = \"simulation-viewer-active\";\n",
              "            const VIEWER_URL = \"https://feature-simulation-viewer.d3a9gfg7glllfq.amplifyapp.com/simulation-viewer\";\n",
              "\n",
              "            class SimulationViewerInjector {\n",
              "                constructor() {\n",
              "                    for (var node of document.getElementsByClassName(TARGET_CLASS)) {\n",
              "                        this.injectViewer(node);\n",
              "                    }\n",
              "\n",
              "                    // Monitor for newly added nodes to the DOM\n",
              "                    this.observer = new MutationObserver(this.onMutations.bind(this));\n",
              "                    this.observer.observe(document.body, {childList: true, subtree: true});\n",
              "                }\n",
              "\n",
              "                onMutations(mutations) {\n",
              "                    for (var mutation of mutations) {\n",
              "                        if (mutation.type === 'childList') {\n",
              "                            /**\n",
              "                            * Have found that adding the element does not reliably trigger the mutation observer.\n",
              "                            * It may be the case that setting content with innerHTML does not trigger.\n",
              "                            *\n",
              "                            * It seems to be sufficient to re-scan the document for un-activated viewers\n",
              "                            * whenever an event occurs, as Jupyter triggers multiple events on cell evaluation.\n",
              "                            */\n",
              "                            var viewers = document.getElementsByClassName(TARGET_CLASS);\n",
              "                            for (var node of viewers) {\n",
              "                                this.injectViewer(node);\n",
              "                            }\n",
              "                        }\n",
              "                    }\n",
              "                }\n",
              "\n",
              "                injectViewer(node) {\n",
              "                    // (re-)check that this is a valid simulation container and has not already been injected\n",
              "                    if (node.classList.contains(TARGET_CLASS) && !node.classList.contains(ACTIVE_CLASS)) {\n",
              "                        // Mark node as injected, to prevent re-runs\n",
              "                        node.classList.add(ACTIVE_CLASS);\n",
              "\n",
              "                        var uuid;\n",
              "                        if (window.crypto && window.crypto.randomUUID) {\n",
              "                            uuid = window.crypto.randomUUID();\n",
              "                        } else {\n",
              "                            uuid = \"\" + Math.random();\n",
              "                        }\n",
              "\n",
              "                        var frame = document.createElement(\"iframe\");\n",
              "                        frame.width = node.dataset.width || 800;\n",
              "                        frame.height = node.dataset.height || 800;\n",
              "                        frame.src = VIEWER_URL + \"?uuid=\" + uuid;\n",
              "\n",
              "                        var postMessageToViewer;\n",
              "                        postMessageToViewer = event => {{\n",
              "                            if(event.data.type === 'viewer' && event.data.uuid===uuid){{\n",
              "                                var simulation = JSON.parse(node.dataset.simulation);\n",
              "                                frame.contentWindow.postMessage({ type: 'jupyter', uuid, value: simulation}, '*');\n",
              "\n",
              "                                // Run once only\n",
              "                                window.removeEventListener('message', postMessageToViewer);\n",
              "                            }}\n",
              "                        }};\n",
              "                        window.addEventListener(\n",
              "                            'message',\n",
              "                            postMessageToViewer,\n",
              "                            false\n",
              "                        );\n",
              "\n",
              "                        node.appendChild(frame);\n",
              "                    }\n",
              "                }\n",
              "            }\n",
              "\n",
              "            if (!window.simulationViewerInjector) {\n",
              "                window.simulationViewerInjector = new SimulationViewerInjector();\n",
              "            }\n",
              "        })();\n",
              "    \n",
              "    </script>\n",
              "    "
            ]
          },
          "metadata": {}
        }
      ]
    },
    {
      "cell_type": "code",
      "source": [
        "task_id = web.upload(sim_Q, task_name = 'cavity_Q')"
      ],
      "metadata": {
        "colab": {
          "base_uri": "https://localhost:8080/",
          "height": 119,
          "referenced_widgets": [
            "eba8f39f2f9e438ba1c253c19d974272",
            "863c104b267a4295a40e8c430df4b3de"
          ]
        },
        "id": "jGfQ-dDaJsdO",
        "outputId": "8a954630-b847-443e-d0b0-9d9579824e77"
      },
      "execution_count": 23,
      "outputs": [
        {
          "output_type": "display_data",
          "data": {
            "text/plain": [
              "\u001b[2;36m01:35:30 UTC\u001b[0m\u001b[2;36m \u001b[0mCreated task \u001b[32m'cavity_Q'\u001b[0m with task_id                               \n",
              "\u001b[2;36m             \u001b[0m\u001b[32m'fdve-ab4c7ffb-9b9d-4afc-8e15-dc79ebbe5f5e'\u001b[0m and task_type \u001b[32m'FDTD'\u001b[0m.  \n"
            ],
            "text/html": [
              "<pre style=\"white-space:pre;overflow-x:auto;line-height:normal;font-family:Menlo,'DejaVu Sans Mono',consolas,'Courier New',monospace\"><span style=\"color: #7fbfbf; text-decoration-color: #7fbfbf\">01:35:30 UTC </span>Created task <span style=\"color: #008000; text-decoration-color: #008000\">'cavity_Q'</span> with task_id                               \n",
              "<span style=\"color: #7fbfbf; text-decoration-color: #7fbfbf\">             </span><span style=\"color: #008000; text-decoration-color: #008000\">'fdve-ab4c7ffb-9b9d-4afc-8e15-dc79ebbe5f5e'</span> and task_type <span style=\"color: #008000; text-decoration-color: #008000\">'FDTD'</span>.  \n",
              "</pre>\n"
            ]
          },
          "metadata": {}
        },
        {
          "output_type": "display_data",
          "data": {
            "text/plain": [
              "\u001b[2;36m            \u001b[0m\u001b[2;36m \u001b[0mView task using web UI at                                          \n",
              "\u001b[2;36m             \u001b[0m\u001b]8;id=559083;https://tidy3d.simulation.cloud/workbench?taskId=fdve-ab4c7ffb-9b9d-4afc-8e15-dc79ebbe5f5e\u001b\\\u001b[32m'https://tidy3d.simulation.cloud/workbench?\u001b[0m\u001b]8;;\u001b\\\u001b]8;id=359407;https://tidy3d.simulation.cloud/workbench?taskId=fdve-ab4c7ffb-9b9d-4afc-8e15-dc79ebbe5f5e\u001b\\\u001b[32mtaskId\u001b[0m\u001b]8;;\u001b\\\u001b]8;id=559083;https://tidy3d.simulation.cloud/workbench?taskId=fdve-ab4c7ffb-9b9d-4afc-8e15-dc79ebbe5f5e\u001b\\\u001b[32m=\u001b[0m\u001b]8;;\u001b\\\u001b]8;id=479174;https://tidy3d.simulation.cloud/workbench?taskId=fdve-ab4c7ffb-9b9d-4afc-8e15-dc79ebbe5f5e\u001b\\\u001b[32mfdve\u001b[0m\u001b]8;;\u001b\\\u001b]8;id=559083;https://tidy3d.simulation.cloud/workbench?taskId=fdve-ab4c7ffb-9b9d-4afc-8e15-dc79ebbe5f5e\u001b\\\u001b[32m-ab4c7ffb-9b9\u001b[0m\u001b]8;;\u001b\\\n",
              "\u001b[2;36m             \u001b[0m\u001b]8;id=559083;https://tidy3d.simulation.cloud/workbench?taskId=fdve-ab4c7ffb-9b9d-4afc-8e15-dc79ebbe5f5e\u001b\\\u001b[32md-4afc-8e15-dc79ebbe5f5e'\u001b[0m\u001b]8;;\u001b\\.                                         \n"
            ],
            "text/html": [
              "<pre style=\"white-space:pre;overflow-x:auto;line-height:normal;font-family:Menlo,'DejaVu Sans Mono',consolas,'Courier New',monospace\"><span style=\"color: #7fbfbf; text-decoration-color: #7fbfbf\">             </span>View task using web UI at                                          \n",
              "<span style=\"color: #7fbfbf; text-decoration-color: #7fbfbf\">             </span><a href=\"https://tidy3d.simulation.cloud/workbench?taskId=fdve-ab4c7ffb-9b9d-4afc-8e15-dc79ebbe5f5e\" target=\"_blank\"><span style=\"color: #008000; text-decoration-color: #008000\">'https://tidy3d.simulation.cloud/workbench?taskId=fdve-ab4c7ffb-9b9</span></a>\n",
              "<span style=\"color: #7fbfbf; text-decoration-color: #7fbfbf\">             </span><a href=\"https://tidy3d.simulation.cloud/workbench?taskId=fdve-ab4c7ffb-9b9d-4afc-8e15-dc79ebbe5f5e\" target=\"_blank\"><span style=\"color: #008000; text-decoration-color: #008000\">d-4afc-8e15-dc79ebbe5f5e'</span></a>.                                         \n",
              "</pre>\n"
            ]
          },
          "metadata": {}
        },
        {
          "output_type": "display_data",
          "data": {
            "text/plain": [
              "Output()"
            ],
            "application/vnd.jupyter.widget-view+json": {
              "version_major": 2,
              "version_minor": 0,
              "model_id": "eba8f39f2f9e438ba1c253c19d974272"
            }
          },
          "metadata": {}
        },
        {
          "output_type": "display_data",
          "data": {
            "text/plain": [],
            "text/html": [
              "<pre style=\"white-space:pre;overflow-x:auto;line-height:normal;font-family:Menlo,'DejaVu Sans Mono',consolas,'Courier New',monospace\"></pre>\n"
            ]
          },
          "metadata": {}
        }
      ]
    },
    {
      "cell_type": "code",
      "source": [
        "web.start(task_id)\n",
        "web.monitor(task_id, verbose = True)"
      ],
      "metadata": {
        "colab": {
          "base_uri": "https://localhost:8080/",
          "height": 289,
          "referenced_widgets": [
            "371ad0867bc1488a86f5dbc83b485a73",
            "34e8c0c94ee64f43b1915df4e92d242a",
            "cc716e43e9d741bc82443bd49396c98f",
            "6e4cecf7afbe42c8bd8d216a8ae1118f",
            "bafe659318af4c88882d782a6b6731e9",
            "5296584c8a294120985f9c2519ed4900"
          ]
        },
        "id": "GoC6vs4SKn-0",
        "outputId": "a8dfe8d4-51c0-4664-e6b9-b904fc141feb"
      },
      "execution_count": 24,
      "outputs": [
        {
          "output_type": "display_data",
          "data": {
            "text/plain": [
              "\u001b[2;36m01:35:34 UTC\u001b[0m\u001b[2;36m \u001b[0mstatus = queued                                                    \n"
            ],
            "text/html": [
              "<pre style=\"white-space:pre;overflow-x:auto;line-height:normal;font-family:Menlo,'DejaVu Sans Mono',consolas,'Courier New',monospace\"><span style=\"color: #7fbfbf; text-decoration-color: #7fbfbf\">01:35:34 UTC </span>status = queued                                                    \n",
              "</pre>\n"
            ]
          },
          "metadata": {}
        },
        {
          "output_type": "display_data",
          "data": {
            "text/plain": [
              "\u001b[2;36m            \u001b[0m\u001b[2;36m \u001b[0mTo cancel the simulation, use \u001b[32m'web.abort\u001b[0m\u001b[32m(\u001b[0m\u001b[32mtask_id\u001b[0m\u001b[32m)\u001b[0m\u001b[32m'\u001b[0m or              \n",
              "\u001b[2;36m             \u001b[0m\u001b[32m'web.delete\u001b[0m\u001b[32m(\u001b[0m\u001b[32mtask_id\u001b[0m\u001b[32m)\u001b[0m\u001b[32m'\u001b[0m or abort/delete the task in the web UI.      \n",
              "\u001b[2;36m             \u001b[0mTerminating the Python script will not stop the job running on the \n",
              "\u001b[2;36m             \u001b[0mcloud.                                                             \n"
            ],
            "text/html": [
              "<pre style=\"white-space:pre;overflow-x:auto;line-height:normal;font-family:Menlo,'DejaVu Sans Mono',consolas,'Courier New',monospace\"><span style=\"color: #7fbfbf; text-decoration-color: #7fbfbf\">             </span>To cancel the simulation, use <span style=\"color: #008000; text-decoration-color: #008000\">'web.abort(task_id)'</span> or              \n",
              "<span style=\"color: #7fbfbf; text-decoration-color: #7fbfbf\">             </span><span style=\"color: #008000; text-decoration-color: #008000\">'web.delete(task_id)'</span> or abort/delete the task in the web UI.      \n",
              "<span style=\"color: #7fbfbf; text-decoration-color: #7fbfbf\">             </span>Terminating the Python script will not stop the job running on the \n",
              "<span style=\"color: #7fbfbf; text-decoration-color: #7fbfbf\">             </span>cloud.                                                             \n",
              "</pre>\n"
            ]
          },
          "metadata": {}
        },
        {
          "output_type": "display_data",
          "data": {
            "text/plain": [
              "Output()"
            ],
            "application/vnd.jupyter.widget-view+json": {
              "version_major": 2,
              "version_minor": 0,
              "model_id": "371ad0867bc1488a86f5dbc83b485a73"
            }
          },
          "metadata": {}
        },
        {
          "output_type": "display_data",
          "data": {
            "text/plain": [
              "\u001b[2;36m01:35:49 UTC\u001b[0m\u001b[2;36m \u001b[0mstatus = preprocess                                                \n"
            ],
            "text/html": [
              "<pre style=\"white-space:pre;overflow-x:auto;line-height:normal;font-family:Menlo,'DejaVu Sans Mono',consolas,'Courier New',monospace\"><span style=\"color: #7fbfbf; text-decoration-color: #7fbfbf\">01:35:49 UTC </span>status = preprocess                                                \n",
              "</pre>\n"
            ]
          },
          "metadata": {}
        },
        {
          "output_type": "display_data",
          "data": {
            "text/plain": [],
            "text/html": [
              "<pre style=\"white-space:pre;overflow-x:auto;line-height:normal;font-family:Menlo,'DejaVu Sans Mono',consolas,'Courier New',monospace\"></pre>\n"
            ]
          },
          "metadata": {}
        },
        {
          "output_type": "display_data",
          "data": {
            "text/plain": [
              "\u001b[2;36m01:35:52 UTC\u001b[0m\u001b[2;36m \u001b[0mMaximum FlexCredit cost: \u001b[1;36m0.041\u001b[0m. Use \u001b[32m'web.real_cost\u001b[0m\u001b[32m(\u001b[0m\u001b[32mtask_id\u001b[0m\u001b[32m)\u001b[0m\u001b[32m'\u001b[0m to get\n",
              "\u001b[2;36m             \u001b[0mthe billed FlexCredit cost after a simulation run.                 \n"
            ],
            "text/html": [
              "<pre style=\"white-space:pre;overflow-x:auto;line-height:normal;font-family:Menlo,'DejaVu Sans Mono',consolas,'Courier New',monospace\"><span style=\"color: #7fbfbf; text-decoration-color: #7fbfbf\">01:35:52 UTC </span>Maximum FlexCredit cost: <span style=\"color: #008080; text-decoration-color: #008080; font-weight: bold\">0.041</span>. Use <span style=\"color: #008000; text-decoration-color: #008000\">'web.real_cost(task_id)'</span> to get\n",
              "<span style=\"color: #7fbfbf; text-decoration-color: #7fbfbf\">             </span>the billed FlexCredit cost after a simulation run.                 \n",
              "</pre>\n"
            ]
          },
          "metadata": {}
        },
        {
          "output_type": "display_data",
          "data": {
            "text/plain": [
              "\u001b[2;36m            \u001b[0m\u001b[2;36m \u001b[0mstarting up solver                                                 \n"
            ],
            "text/html": [
              "<pre style=\"white-space:pre;overflow-x:auto;line-height:normal;font-family:Menlo,'DejaVu Sans Mono',consolas,'Courier New',monospace\"><span style=\"color: #7fbfbf; text-decoration-color: #7fbfbf\">             </span>starting up solver                                                 \n",
              "</pre>\n"
            ]
          },
          "metadata": {}
        },
        {
          "output_type": "display_data",
          "data": {
            "text/plain": [
              "\u001b[2;36m            \u001b[0m\u001b[2;36m \u001b[0mrunning solver                                                     \n"
            ],
            "text/html": [
              "<pre style=\"white-space:pre;overflow-x:auto;line-height:normal;font-family:Menlo,'DejaVu Sans Mono',consolas,'Courier New',monospace\"><span style=\"color: #7fbfbf; text-decoration-color: #7fbfbf\">             </span>running solver                                                     \n",
              "</pre>\n"
            ]
          },
          "metadata": {}
        },
        {
          "output_type": "display_data",
          "data": {
            "text/plain": [
              "Output()"
            ],
            "application/vnd.jupyter.widget-view+json": {
              "version_major": 2,
              "version_minor": 0,
              "model_id": "cc716e43e9d741bc82443bd49396c98f"
            }
          },
          "metadata": {}
        },
        {
          "output_type": "display_data",
          "data": {
            "text/plain": [],
            "text/html": [
              "<pre style=\"white-space:pre;overflow-x:auto;line-height:normal;font-family:Menlo,'DejaVu Sans Mono',consolas,'Courier New',monospace\"></pre>\n"
            ]
          },
          "metadata": {}
        },
        {
          "output_type": "display_data",
          "data": {
            "text/plain": [
              "Output()"
            ],
            "application/vnd.jupyter.widget-view+json": {
              "version_major": 2,
              "version_minor": 0,
              "model_id": "bafe659318af4c88882d782a6b6731e9"
            }
          },
          "metadata": {}
        },
        {
          "output_type": "display_data",
          "data": {
            "text/plain": [
              "\u001b[2;36m01:36:25 UTC\u001b[0m\u001b[2;36m \u001b[0mstatus = postprocess                                               \n"
            ],
            "text/html": [
              "<pre style=\"white-space:pre;overflow-x:auto;line-height:normal;font-family:Menlo,'DejaVu Sans Mono',consolas,'Courier New',monospace\"><span style=\"color: #7fbfbf; text-decoration-color: #7fbfbf\">01:36:25 UTC </span>status = postprocess                                               \n",
              "</pre>\n"
            ]
          },
          "metadata": {}
        },
        {
          "output_type": "display_data",
          "data": {
            "text/plain": [
              "\u001b[2;36m01:36:28 UTC\u001b[0m\u001b[2;36m \u001b[0mstatus = success                                                   \n"
            ],
            "text/html": [
              "<pre style=\"white-space:pre;overflow-x:auto;line-height:normal;font-family:Menlo,'DejaVu Sans Mono',consolas,'Courier New',monospace\"><span style=\"color: #7fbfbf; text-decoration-color: #7fbfbf\">01:36:28 UTC </span>status = success                                                   \n",
              "</pre>\n"
            ]
          },
          "metadata": {}
        },
        {
          "output_type": "display_data",
          "data": {
            "text/plain": [],
            "text/html": [
              "<pre style=\"white-space:pre;overflow-x:auto;line-height:normal;font-family:Menlo,'DejaVu Sans Mono',consolas,'Courier New',monospace\"></pre>\n"
            ]
          },
          "metadata": {}
        },
        {
          "output_type": "display_data",
          "data": {
            "text/plain": [
              "\u001b[2;36m            \u001b[0m\u001b[2;36m \u001b[0mView simulation result at                                          \n",
              "\u001b[2;36m             \u001b[0m\u001b]8;id=552028;https://tidy3d.simulation.cloud/workbench?taskId=fdve-ab4c7ffb-9b9d-4afc-8e15-dc79ebbe5f5e\u001b\\\u001b[4;34m'https://tidy3d.simulation.cloud/workbench?\u001b[0m\u001b]8;;\u001b\\\u001b]8;id=730084;https://tidy3d.simulation.cloud/workbench?taskId=fdve-ab4c7ffb-9b9d-4afc-8e15-dc79ebbe5f5e\u001b\\\u001b[4;34mtaskId\u001b[0m\u001b]8;;\u001b\\\u001b]8;id=552028;https://tidy3d.simulation.cloud/workbench?taskId=fdve-ab4c7ffb-9b9d-4afc-8e15-dc79ebbe5f5e\u001b\\\u001b[4;34m=\u001b[0m\u001b]8;;\u001b\\\u001b]8;id=20638;https://tidy3d.simulation.cloud/workbench?taskId=fdve-ab4c7ffb-9b9d-4afc-8e15-dc79ebbe5f5e\u001b\\\u001b[4;34mfdve\u001b[0m\u001b]8;;\u001b\\\u001b]8;id=552028;https://tidy3d.simulation.cloud/workbench?taskId=fdve-ab4c7ffb-9b9d-4afc-8e15-dc79ebbe5f5e\u001b\\\u001b[4;34m-ab4c7ffb-9b9\u001b[0m\u001b]8;;\u001b\\\n",
              "\u001b[2;36m             \u001b[0m\u001b]8;id=552028;https://tidy3d.simulation.cloud/workbench?taskId=fdve-ab4c7ffb-9b9d-4afc-8e15-dc79ebbe5f5e\u001b\\\u001b[4;34md-4afc-8e15-dc79ebbe5f5e'\u001b[0m\u001b]8;;\u001b\\\u001b[4;34m.\u001b[0m                                         \n"
            ],
            "text/html": [
              "<pre style=\"white-space:pre;overflow-x:auto;line-height:normal;font-family:Menlo,'DejaVu Sans Mono',consolas,'Courier New',monospace\"><span style=\"color: #7fbfbf; text-decoration-color: #7fbfbf\">             </span>View simulation result at                                          \n",
              "<span style=\"color: #7fbfbf; text-decoration-color: #7fbfbf\">             </span><a href=\"https://tidy3d.simulation.cloud/workbench?taskId=fdve-ab4c7ffb-9b9d-4afc-8e15-dc79ebbe5f5e\" target=\"_blank\"><span style=\"color: #000080; text-decoration-color: #000080; text-decoration: underline\">'https://tidy3d.simulation.cloud/workbench?taskId=fdve-ab4c7ffb-9b9</span></a>\n",
              "<span style=\"color: #7fbfbf; text-decoration-color: #7fbfbf\">             </span><a href=\"https://tidy3d.simulation.cloud/workbench?taskId=fdve-ab4c7ffb-9b9d-4afc-8e15-dc79ebbe5f5e\" target=\"_blank\"><span style=\"color: #000080; text-decoration-color: #000080; text-decoration: underline\">d-4afc-8e15-dc79ebbe5f5e'</span></a><span style=\"color: #000080; text-decoration-color: #000080; text-decoration: underline\">.</span>                                         \n",
              "</pre>\n"
            ]
          },
          "metadata": {}
        }
      ]
    },
    {
      "cell_type": "code",
      "source": [
        "sim_data = web.load(task_id, path='data/sim_data_Q.hdf5')\n",
        "print(sim_data.log)"
      ],
      "metadata": {
        "colab": {
          "base_uri": "https://localhost:8080/",
          "height": 1000,
          "referenced_widgets": [
            "ffb52e5a85a04329b04466c0733041e9",
            "f94f5596ab3442c4865b6c3406d3aac3"
          ]
        },
        "id": "aFgdTHweLAIY",
        "outputId": "abf89d8c-2cc6-45f4-a5b9-b76394e640bd"
      },
      "execution_count": 25,
      "outputs": [
        {
          "output_type": "display_data",
          "data": {
            "text/plain": [
              "Output()"
            ],
            "application/vnd.jupyter.widget-view+json": {
              "version_major": 2,
              "version_minor": 0,
              "model_id": "ffb52e5a85a04329b04466c0733041e9"
            }
          },
          "metadata": {}
        },
        {
          "output_type": "display_data",
          "data": {
            "text/plain": [],
            "text/html": [
              "<pre style=\"white-space:pre;overflow-x:auto;line-height:normal;font-family:Menlo,'DejaVu Sans Mono',consolas,'Courier New',monospace\"></pre>\n"
            ]
          },
          "metadata": {}
        },
        {
          "output_type": "display_data",
          "data": {
            "text/plain": [
              "\u001b[2;36m01:36:39 UTC\u001b[0m\u001b[2;36m \u001b[0mloading simulation from data/sim_data_Q.hdf5                       \n"
            ],
            "text/html": [
              "<pre style=\"white-space:pre;overflow-x:auto;line-height:normal;font-family:Menlo,'DejaVu Sans Mono',consolas,'Courier New',monospace\"><span style=\"color: #7fbfbf; text-decoration-color: #7fbfbf\">01:36:39 UTC </span>loading simulation from data/sim_data_Q.hdf5                       \n",
              "</pre>\n"
            ]
          },
          "metadata": {}
        },
        {
          "output_type": "display_data",
          "data": {
            "text/plain": [
              "\u001b[2;36m            \u001b[0m\u001b[2;36m \u001b[0m\u001b[31mWARNING: Structure at structures\u001b[0m\u001b[1;31m[\u001b[0m\u001b[1;36m1\u001b[0m\u001b[1;31m]\u001b[0m\u001b[31m was detected as being less than\u001b[0m\n",
              "\u001b[2;36m             \u001b[0m\u001b[31mhalf of a central wavelength from a PML on side x-min. To avoid    \u001b[0m\n",
              "\u001b[2;36m             \u001b[0m\u001b[31minaccurate results or divergence, please increase gap between any  \u001b[0m\n",
              "\u001b[2;36m             \u001b[0m\u001b[31mstructures and PML or fully extend structure through the pml.      \u001b[0m\n"
            ],
            "text/html": [
              "<pre style=\"white-space:pre;overflow-x:auto;line-height:normal;font-family:Menlo,'DejaVu Sans Mono',consolas,'Courier New',monospace\"><span style=\"color: #7fbfbf; text-decoration-color: #7fbfbf\">             </span><span style=\"color: #800000; text-decoration-color: #800000\">WARNING: Structure at structures</span><span style=\"color: #800000; text-decoration-color: #800000; font-weight: bold\">[</span><span style=\"color: #008080; text-decoration-color: #008080; font-weight: bold\">1</span><span style=\"color: #800000; text-decoration-color: #800000; font-weight: bold\">]</span><span style=\"color: #800000; text-decoration-color: #800000\"> was detected as being less than</span>\n",
              "<span style=\"color: #7fbfbf; text-decoration-color: #7fbfbf\">             </span><span style=\"color: #800000; text-decoration-color: #800000\">half of a central wavelength from a PML on side x-min. To avoid    </span>\n",
              "<span style=\"color: #7fbfbf; text-decoration-color: #7fbfbf\">             </span><span style=\"color: #800000; text-decoration-color: #800000\">inaccurate results or divergence, please increase gap between any  </span>\n",
              "<span style=\"color: #7fbfbf; text-decoration-color: #7fbfbf\">             </span><span style=\"color: #800000; text-decoration-color: #800000\">structures and PML or fully extend structure through the pml.      </span>\n",
              "</pre>\n"
            ]
          },
          "metadata": {}
        },
        {
          "output_type": "display_data",
          "data": {
            "text/plain": [
              "\u001b[2;36m            \u001b[0m\u001b[2;36m \u001b[0m\u001b[31mWARNING: Suppressed \u001b[0m\u001b[1;36m3\u001b[0m\u001b[31m WARNING messages.                            \u001b[0m\n"
            ],
            "text/html": [
              "<pre style=\"white-space:pre;overflow-x:auto;line-height:normal;font-family:Menlo,'DejaVu Sans Mono',consolas,'Courier New',monospace\"><span style=\"color: #7fbfbf; text-decoration-color: #7fbfbf\">             </span><span style=\"color: #800000; text-decoration-color: #800000\">WARNING: Suppressed </span><span style=\"color: #008080; text-decoration-color: #008080; font-weight: bold\">3</span><span style=\"color: #800000; text-decoration-color: #800000\"> WARNING messages.                            </span>\n",
              "</pre>\n"
            ]
          },
          "metadata": {}
        },
        {
          "output_type": "display_data",
          "data": {
            "text/plain": [
              "\u001b[2;36m            \u001b[0m\u001b[2;36m \u001b[0m\u001b[31mWARNING: Simulation final field decay value of \u001b[0m\u001b[1;36m4.02e-05\u001b[0m\u001b[31m is greater \u001b[0m\n",
              "\u001b[2;36m             \u001b[0m\u001b[31mthan the simulation shutoff threshold of \u001b[0m\u001b[1;36m1e-07\u001b[0m\u001b[31m. Consider running   \u001b[0m\n",
              "\u001b[2;36m             \u001b[0m\u001b[31mthe simulation again with a larger \u001b[0m\u001b[32m'run_time'\u001b[0m\u001b[31m duration for more    \u001b[0m\n",
              "\u001b[2;36m             \u001b[0m\u001b[31maccurate results.                                                  \u001b[0m\n"
            ],
            "text/html": [
              "<pre style=\"white-space:pre;overflow-x:auto;line-height:normal;font-family:Menlo,'DejaVu Sans Mono',consolas,'Courier New',monospace\"><span style=\"color: #7fbfbf; text-decoration-color: #7fbfbf\">             </span><span style=\"color: #800000; text-decoration-color: #800000\">WARNING: Simulation final field decay value of </span><span style=\"color: #008080; text-decoration-color: #008080; font-weight: bold\">4.02e-05</span><span style=\"color: #800000; text-decoration-color: #800000\"> is greater </span>\n",
              "<span style=\"color: #7fbfbf; text-decoration-color: #7fbfbf\">             </span><span style=\"color: #800000; text-decoration-color: #800000\">than the simulation shutoff threshold of </span><span style=\"color: #008080; text-decoration-color: #008080; font-weight: bold\">1e-07</span><span style=\"color: #800000; text-decoration-color: #800000\">. Consider running   </span>\n",
              "<span style=\"color: #7fbfbf; text-decoration-color: #7fbfbf\">             </span><span style=\"color: #800000; text-decoration-color: #800000\">the simulation again with a larger </span><span style=\"color: #008000; text-decoration-color: #008000\">'run_time'</span><span style=\"color: #800000; text-decoration-color: #800000\"> duration for more    </span>\n",
              "<span style=\"color: #7fbfbf; text-decoration-color: #7fbfbf\">             </span><span style=\"color: #800000; text-decoration-color: #800000\">accurate results.                                                  </span>\n",
              "</pre>\n"
            ]
          },
          "metadata": {}
        },
        {
          "output_type": "display_data",
          "data": {
            "text/plain": [
              "\u001b[2;36m            \u001b[0m\u001b[2;36m \u001b[0m\u001b[31mWARNING: Warning messages were found in the solver log. For more   \u001b[0m\n",
              "\u001b[2;36m             \u001b[0m\u001b[31minformation, check \u001b[0m\u001b[32m'SimulationData.log'\u001b[0m\u001b[31m or use                     \u001b[0m\n",
              "\u001b[2;36m             \u001b[0m\u001b[32m'web.download_log\u001b[0m\u001b[32m(\u001b[0m\u001b[32mtask_id\u001b[0m\u001b[32m)\u001b[0m\u001b[32m'\u001b[0m\u001b[31m.                                       \u001b[0m\n"
            ],
            "text/html": [
              "<pre style=\"white-space:pre;overflow-x:auto;line-height:normal;font-family:Menlo,'DejaVu Sans Mono',consolas,'Courier New',monospace\"><span style=\"color: #7fbfbf; text-decoration-color: #7fbfbf\">             </span><span style=\"color: #800000; text-decoration-color: #800000\">WARNING: Warning messages were found in the solver log. For more   </span>\n",
              "<span style=\"color: #7fbfbf; text-decoration-color: #7fbfbf\">             </span><span style=\"color: #800000; text-decoration-color: #800000\">information, check </span><span style=\"color: #008000; text-decoration-color: #008000\">'SimulationData.log'</span><span style=\"color: #800000; text-decoration-color: #800000\"> or use                     </span>\n",
              "<span style=\"color: #7fbfbf; text-decoration-color: #7fbfbf\">             </span><span style=\"color: #008000; text-decoration-color: #008000\">'web.download_log(task_id)'</span><span style=\"color: #800000; text-decoration-color: #800000\">.                                       </span>\n",
              "</pre>\n"
            ]
          },
          "metadata": {}
        },
        {
          "output_type": "stream",
          "name": "stdout",
          "text": [
            "[01:35:48] WARNING: Structure at structures[1] was detected as being less than  \n",
            "           half of a central wavelength from a PML on side x-min. To avoid      \n",
            "           inaccurate results or divergence, please increase gap between any    \n",
            "           structures and PML or fully extend structure through the pml.        \n",
            "           WARNING: Suppressed 3 WARNING messages.                              \n",
            "[01:35:49] USER: Simulation domain Nx, Ny, Nz: [200, 200, 124]                  \n",
            "           USER: Applied symmetries: (-1, 1, 0)                                 \n",
            "           USER: Number of computational grid points: 1.3109e+06.               \n",
            "           USER: Subpixel averaging method: SubpixelSpec(attrs={},              \n",
            "           dielectric=PolarizedAveraging(attrs={}, type='PolarizedAveraging'),  \n",
            "           metal=Staircasing(attrs={}, type='Staircasing'),                     \n",
            "           pec=PECConformal(attrs={}, type='PECConformal',                      \n",
            "           timestep_reduction=0.3), type='SubpixelSpec')                        \n",
            "           USER: Number of time steps: 1.0490e+05                               \n",
            "           USER: Automatic shutoff factor: 1.00e-07                             \n",
            "           USER: Time step (s): 3.8131e-17                                      \n",
            "           USER:                                                                \n",
            "                                                                                \n",
            "           USER: Compute source modes time (s):     0.8324                      \n",
            "[01:35:50] USER: Rest of setup time (s):            0.3054                      \n",
            "[01:35:52] USER: Compute monitor modes time (s):    0.0001                      \n",
            "[01:36:23] USER: Solver time (s):                   29.9560                     \n",
            "           USER: Time-stepping speed (cells/s):     4.66e+09                    \n",
            "           USER: Post-processing time (s):          0.5363                      \n",
            "\n",
            " ====== SOLVER LOG ====== \n",
            "\n",
            "Processing grid and structures...\n",
            "Building FDTD update coefficients...\n",
            "Solver setup time (s):             0.3486\n",
            "\n",
            "Running solver for 104902 time steps...\n",
            "- Time step    145 / time 5.53e-15s (  0 % done), field decay: 1.00e+00\n",
            "- Time step   4196 / time 1.60e-13s (  4 % done), field decay: 1.13e-01\n",
            "- Time step   8392 / time 3.20e-13s (  8 % done), field decay: 2.99e-02\n",
            "- Time step  12588 / time 4.80e-13s ( 12 % done), field decay: 4.92e-02\n",
            "- Time step  16784 / time 6.40e-13s ( 16 % done), field decay: 6.87e-03\n",
            "- Time step  20980 / time 8.00e-13s ( 20 % done), field decay: 3.23e-02\n",
            "- Time step  25176 / time 9.60e-13s ( 24 % done), field decay: 2.03e-03\n",
            "- Time step  29372 / time 1.12e-12s ( 28 % done), field decay: 1.98e-02\n",
            "- Time step  33568 / time 1.28e-12s ( 32 % done), field decay: 6.50e-04\n",
            "- Time step  37764 / time 1.44e-12s ( 36 % done), field decay: 1.17e-02\n",
            "- Time step  41960 / time 1.60e-12s ( 40 % done), field decay: 3.41e-04\n",
            "- Time step  46156 / time 1.76e-12s ( 44 % done), field decay: 6.90e-03\n",
            "- Time step  50352 / time 1.92e-12s ( 48 % done), field decay: 3.55e-04\n",
            "- Time step  54549 / time 2.08e-12s ( 52 % done), field decay: 3.72e-03\n",
            "- Time step  58745 / time 2.24e-12s ( 56 % done), field decay: 5.50e-04\n",
            "- Time step  62941 / time 2.40e-12s ( 60 % done), field decay: 1.98e-03\n",
            "- Time step  67137 / time 2.56e-12s ( 64 % done), field decay: 5.12e-04\n",
            "- Time step  71333 / time 2.72e-12s ( 68 % done), field decay: 1.02e-03\n",
            "- Time step  75529 / time 2.88e-12s ( 72 % done), field decay: 4.30e-04\n",
            "- Time step  79725 / time 3.04e-12s ( 76 % done), field decay: 4.98e-04\n",
            "- Time step  83921 / time 3.20e-12s ( 80 % done), field decay: 3.36e-04\n",
            "- Time step  88117 / time 3.36e-12s ( 84 % done), field decay: 2.32e-04\n",
            "- Time step  92313 / time 3.52e-12s ( 88 % done), field decay: 2.47e-04\n",
            "- Time step  96509 / time 3.68e-12s ( 92 % done), field decay: 1.01e-04\n",
            "- Time step 100705 / time 3.84e-12s ( 96 % done), field decay: 1.72e-04\n",
            "- Time step 104901 / time 4.00e-12s (100 % done), field decay: 4.02e-05\n",
            "Time-stepping time (s):            29.4848\n",
            "Data write time (s):               0.1233\n",
            "\n"
          ]
        }
      ]
    },
    {
      "cell_type": "code",
      "source": [
        "sim_data = td.SimulationData.from_file(fname = 'data/sim_data_Q.hdf5')"
      ],
      "metadata": {
        "colab": {
          "base_uri": "https://localhost:8080/",
          "height": 102
        },
        "id": "P9bm9GHaLJF-",
        "outputId": "4fa49f82-91e7-4c44-f7d2-012f3e79f084"
      },
      "execution_count": 26,
      "outputs": [
        {
          "output_type": "display_data",
          "data": {
            "text/plain": [
              "\u001b[2;36m01:36:48 UTC\u001b[0m\u001b[2;36m \u001b[0m\u001b[31mWARNING: Structure at structures\u001b[0m\u001b[1;31m[\u001b[0m\u001b[1;36m1\u001b[0m\u001b[1;31m]\u001b[0m\u001b[31m was detected as being less than\u001b[0m\n",
              "\u001b[2;36m             \u001b[0m\u001b[31mhalf of a central wavelength from a PML on side x-min. To avoid    \u001b[0m\n",
              "\u001b[2;36m             \u001b[0m\u001b[31minaccurate results or divergence, please increase gap between any  \u001b[0m\n",
              "\u001b[2;36m             \u001b[0m\u001b[31mstructures and PML or fully extend structure through the pml.      \u001b[0m\n"
            ],
            "text/html": [
              "<pre style=\"white-space:pre;overflow-x:auto;line-height:normal;font-family:Menlo,'DejaVu Sans Mono',consolas,'Courier New',monospace\"><span style=\"color: #7fbfbf; text-decoration-color: #7fbfbf\">01:36:48 UTC </span><span style=\"color: #800000; text-decoration-color: #800000\">WARNING: Structure at structures</span><span style=\"color: #800000; text-decoration-color: #800000; font-weight: bold\">[</span><span style=\"color: #008080; text-decoration-color: #008080; font-weight: bold\">1</span><span style=\"color: #800000; text-decoration-color: #800000; font-weight: bold\">]</span><span style=\"color: #800000; text-decoration-color: #800000\"> was detected as being less than</span>\n",
              "<span style=\"color: #7fbfbf; text-decoration-color: #7fbfbf\">             </span><span style=\"color: #800000; text-decoration-color: #800000\">half of a central wavelength from a PML on side x-min. To avoid    </span>\n",
              "<span style=\"color: #7fbfbf; text-decoration-color: #7fbfbf\">             </span><span style=\"color: #800000; text-decoration-color: #800000\">inaccurate results or divergence, please increase gap between any  </span>\n",
              "<span style=\"color: #7fbfbf; text-decoration-color: #7fbfbf\">             </span><span style=\"color: #800000; text-decoration-color: #800000\">structures and PML or fully extend structure through the pml.      </span>\n",
              "</pre>\n"
            ]
          },
          "metadata": {}
        },
        {
          "output_type": "display_data",
          "data": {
            "text/plain": [
              "\u001b[2;36m            \u001b[0m\u001b[2;36m \u001b[0m\u001b[31mWARNING: Suppressed \u001b[0m\u001b[1;36m3\u001b[0m\u001b[31m WARNING messages.                            \u001b[0m\n"
            ],
            "text/html": [
              "<pre style=\"white-space:pre;overflow-x:auto;line-height:normal;font-family:Menlo,'DejaVu Sans Mono',consolas,'Courier New',monospace\"><span style=\"color: #7fbfbf; text-decoration-color: #7fbfbf\">             </span><span style=\"color: #800000; text-decoration-color: #800000\">WARNING: Suppressed </span><span style=\"color: #008080; text-decoration-color: #008080; font-weight: bold\">3</span><span style=\"color: #800000; text-decoration-color: #800000\"> WARNING messages.                            </span>\n",
              "</pre>\n"
            ]
          },
          "metadata": {}
        }
      ]
    },
    {
      "cell_type": "code",
      "source": [
        "resonance_finder = ResonanceFinder(freq_window=(monitor_freq[-1], monitor_freq[0]))\n",
        "resonance_data = resonance_finder.run(signals=sim_data.data)\n",
        "resonance_data.to_dataframe()"
      ],
      "metadata": {
        "colab": {
          "base_uri": "https://localhost:8080/",
          "height": 206
        },
        "id": "AwrzE1MyLPzD",
        "outputId": "f8399272-898e-4fc9-fea8-c859c2c6bc5f"
      },
      "execution_count": 27,
      "outputs": [
        {
          "output_type": "execute_result",
          "data": {
            "text/plain": [
              "                     decay            Q   amplitude     phase     error\n",
              "freq                                                                   \n",
              "3.203774e+14  8.204770e+11  1226.719565  187.583848  2.111641  0.002148\n",
              "3.319802e+14  3.455772e+12   301.798412   84.262694  0.047195  0.010644\n",
              "3.569841e+14  1.295024e+12   866.006340   38.889911 -2.343185  0.005085\n",
              "4.196056e+14  8.189158e+12   160.972584  180.447061  2.765938  0.015051"
            ],
            "text/html": [
              "\n",
              "  <div id=\"df-bf7eb44f-a1d3-4e3c-954f-a32611f0ea9b\" class=\"colab-df-container\">\n",
              "    <div>\n",
              "<style scoped>\n",
              "    .dataframe tbody tr th:only-of-type {\n",
              "        vertical-align: middle;\n",
              "    }\n",
              "\n",
              "    .dataframe tbody tr th {\n",
              "        vertical-align: top;\n",
              "    }\n",
              "\n",
              "    .dataframe thead th {\n",
              "        text-align: right;\n",
              "    }\n",
              "</style>\n",
              "<table border=\"1\" class=\"dataframe\">\n",
              "  <thead>\n",
              "    <tr style=\"text-align: right;\">\n",
              "      <th></th>\n",
              "      <th>decay</th>\n",
              "      <th>Q</th>\n",
              "      <th>amplitude</th>\n",
              "      <th>phase</th>\n",
              "      <th>error</th>\n",
              "    </tr>\n",
              "    <tr>\n",
              "      <th>freq</th>\n",
              "      <th></th>\n",
              "      <th></th>\n",
              "      <th></th>\n",
              "      <th></th>\n",
              "      <th></th>\n",
              "    </tr>\n",
              "  </thead>\n",
              "  <tbody>\n",
              "    <tr>\n",
              "      <th>3.203774e+14</th>\n",
              "      <td>8.204770e+11</td>\n",
              "      <td>1226.719565</td>\n",
              "      <td>187.583848</td>\n",
              "      <td>2.111641</td>\n",
              "      <td>0.002148</td>\n",
              "    </tr>\n",
              "    <tr>\n",
              "      <th>3.319802e+14</th>\n",
              "      <td>3.455772e+12</td>\n",
              "      <td>301.798412</td>\n",
              "      <td>84.262694</td>\n",
              "      <td>0.047195</td>\n",
              "      <td>0.010644</td>\n",
              "    </tr>\n",
              "    <tr>\n",
              "      <th>3.569841e+14</th>\n",
              "      <td>1.295024e+12</td>\n",
              "      <td>866.006340</td>\n",
              "      <td>38.889911</td>\n",
              "      <td>-2.343185</td>\n",
              "      <td>0.005085</td>\n",
              "    </tr>\n",
              "    <tr>\n",
              "      <th>4.196056e+14</th>\n",
              "      <td>8.189158e+12</td>\n",
              "      <td>160.972584</td>\n",
              "      <td>180.447061</td>\n",
              "      <td>2.765938</td>\n",
              "      <td>0.015051</td>\n",
              "    </tr>\n",
              "  </tbody>\n",
              "</table>\n",
              "</div>\n",
              "    <div class=\"colab-df-buttons\">\n",
              "\n",
              "  <div class=\"colab-df-container\">\n",
              "    <button class=\"colab-df-convert\" onclick=\"convertToInteractive('df-bf7eb44f-a1d3-4e3c-954f-a32611f0ea9b')\"\n",
              "            title=\"Convert this dataframe to an interactive table.\"\n",
              "            style=\"display:none;\">\n",
              "\n",
              "  <svg xmlns=\"http://www.w3.org/2000/svg\" height=\"24px\" viewBox=\"0 -960 960 960\">\n",
              "    <path d=\"M120-120v-720h720v720H120Zm60-500h600v-160H180v160Zm220 220h160v-160H400v160Zm0 220h160v-160H400v160ZM180-400h160v-160H180v160Zm440 0h160v-160H620v160ZM180-180h160v-160H180v160Zm440 0h160v-160H620v160Z\"/>\n",
              "  </svg>\n",
              "    </button>\n",
              "\n",
              "  <style>\n",
              "    .colab-df-container {\n",
              "      display:flex;\n",
              "      gap: 12px;\n",
              "    }\n",
              "\n",
              "    .colab-df-convert {\n",
              "      background-color: #E8F0FE;\n",
              "      border: none;\n",
              "      border-radius: 50%;\n",
              "      cursor: pointer;\n",
              "      display: none;\n",
              "      fill: #1967D2;\n",
              "      height: 32px;\n",
              "      padding: 0 0 0 0;\n",
              "      width: 32px;\n",
              "    }\n",
              "\n",
              "    .colab-df-convert:hover {\n",
              "      background-color: #E2EBFA;\n",
              "      box-shadow: 0px 1px 2px rgba(60, 64, 67, 0.3), 0px 1px 3px 1px rgba(60, 64, 67, 0.15);\n",
              "      fill: #174EA6;\n",
              "    }\n",
              "\n",
              "    .colab-df-buttons div {\n",
              "      margin-bottom: 4px;\n",
              "    }\n",
              "\n",
              "    [theme=dark] .colab-df-convert {\n",
              "      background-color: #3B4455;\n",
              "      fill: #D2E3FC;\n",
              "    }\n",
              "\n",
              "    [theme=dark] .colab-df-convert:hover {\n",
              "      background-color: #434B5C;\n",
              "      box-shadow: 0px 1px 3px 1px rgba(0, 0, 0, 0.15);\n",
              "      filter: drop-shadow(0px 1px 2px rgba(0, 0, 0, 0.3));\n",
              "      fill: #FFFFFF;\n",
              "    }\n",
              "  </style>\n",
              "\n",
              "    <script>\n",
              "      const buttonEl =\n",
              "        document.querySelector('#df-bf7eb44f-a1d3-4e3c-954f-a32611f0ea9b button.colab-df-convert');\n",
              "      buttonEl.style.display =\n",
              "        google.colab.kernel.accessAllowed ? 'block' : 'none';\n",
              "\n",
              "      async function convertToInteractive(key) {\n",
              "        const element = document.querySelector('#df-bf7eb44f-a1d3-4e3c-954f-a32611f0ea9b');\n",
              "        const dataTable =\n",
              "          await google.colab.kernel.invokeFunction('convertToInteractive',\n",
              "                                                    [key], {});\n",
              "        if (!dataTable) return;\n",
              "\n",
              "        const docLinkHtml = 'Like what you see? Visit the ' +\n",
              "          '<a target=\"_blank\" href=https://colab.research.google.com/notebooks/data_table.ipynb>data table notebook</a>'\n",
              "          + ' to learn more about interactive tables.';\n",
              "        element.innerHTML = '';\n",
              "        dataTable['output_type'] = 'display_data';\n",
              "        await google.colab.output.renderOutput(dataTable, element);\n",
              "        const docLink = document.createElement('div');\n",
              "        docLink.innerHTML = docLinkHtml;\n",
              "        element.appendChild(docLink);\n",
              "      }\n",
              "    </script>\n",
              "  </div>\n",
              "\n",
              "\n",
              "<div id=\"df-4bf90378-721e-4b53-ae42-0251b7c6f866\">\n",
              "  <button class=\"colab-df-quickchart\" onclick=\"quickchart('df-4bf90378-721e-4b53-ae42-0251b7c6f866')\"\n",
              "            title=\"Suggest charts\"\n",
              "            style=\"display:none;\">\n",
              "\n",
              "<svg xmlns=\"http://www.w3.org/2000/svg\" height=\"24px\"viewBox=\"0 0 24 24\"\n",
              "     width=\"24px\">\n",
              "    <g>\n",
              "        <path d=\"M19 3H5c-1.1 0-2 .9-2 2v14c0 1.1.9 2 2 2h14c1.1 0 2-.9 2-2V5c0-1.1-.9-2-2-2zM9 17H7v-7h2v7zm4 0h-2V7h2v10zm4 0h-2v-4h2v4z\"/>\n",
              "    </g>\n",
              "</svg>\n",
              "  </button>\n",
              "\n",
              "<style>\n",
              "  .colab-df-quickchart {\n",
              "      --bg-color: #E8F0FE;\n",
              "      --fill-color: #1967D2;\n",
              "      --hover-bg-color: #E2EBFA;\n",
              "      --hover-fill-color: #174EA6;\n",
              "      --disabled-fill-color: #AAA;\n",
              "      --disabled-bg-color: #DDD;\n",
              "  }\n",
              "\n",
              "  [theme=dark] .colab-df-quickchart {\n",
              "      --bg-color: #3B4455;\n",
              "      --fill-color: #D2E3FC;\n",
              "      --hover-bg-color: #434B5C;\n",
              "      --hover-fill-color: #FFFFFF;\n",
              "      --disabled-bg-color: #3B4455;\n",
              "      --disabled-fill-color: #666;\n",
              "  }\n",
              "\n",
              "  .colab-df-quickchart {\n",
              "    background-color: var(--bg-color);\n",
              "    border: none;\n",
              "    border-radius: 50%;\n",
              "    cursor: pointer;\n",
              "    display: none;\n",
              "    fill: var(--fill-color);\n",
              "    height: 32px;\n",
              "    padding: 0;\n",
              "    width: 32px;\n",
              "  }\n",
              "\n",
              "  .colab-df-quickchart:hover {\n",
              "    background-color: var(--hover-bg-color);\n",
              "    box-shadow: 0 1px 2px rgba(60, 64, 67, 0.3), 0 1px 3px 1px rgba(60, 64, 67, 0.15);\n",
              "    fill: var(--button-hover-fill-color);\n",
              "  }\n",
              "\n",
              "  .colab-df-quickchart-complete:disabled,\n",
              "  .colab-df-quickchart-complete:disabled:hover {\n",
              "    background-color: var(--disabled-bg-color);\n",
              "    fill: var(--disabled-fill-color);\n",
              "    box-shadow: none;\n",
              "  }\n",
              "\n",
              "  .colab-df-spinner {\n",
              "    border: 2px solid var(--fill-color);\n",
              "    border-color: transparent;\n",
              "    border-bottom-color: var(--fill-color);\n",
              "    animation:\n",
              "      spin 1s steps(1) infinite;\n",
              "  }\n",
              "\n",
              "  @keyframes spin {\n",
              "    0% {\n",
              "      border-color: transparent;\n",
              "      border-bottom-color: var(--fill-color);\n",
              "      border-left-color: var(--fill-color);\n",
              "    }\n",
              "    20% {\n",
              "      border-color: transparent;\n",
              "      border-left-color: var(--fill-color);\n",
              "      border-top-color: var(--fill-color);\n",
              "    }\n",
              "    30% {\n",
              "      border-color: transparent;\n",
              "      border-left-color: var(--fill-color);\n",
              "      border-top-color: var(--fill-color);\n",
              "      border-right-color: var(--fill-color);\n",
              "    }\n",
              "    40% {\n",
              "      border-color: transparent;\n",
              "      border-right-color: var(--fill-color);\n",
              "      border-top-color: var(--fill-color);\n",
              "    }\n",
              "    60% {\n",
              "      border-color: transparent;\n",
              "      border-right-color: var(--fill-color);\n",
              "    }\n",
              "    80% {\n",
              "      border-color: transparent;\n",
              "      border-right-color: var(--fill-color);\n",
              "      border-bottom-color: var(--fill-color);\n",
              "    }\n",
              "    90% {\n",
              "      border-color: transparent;\n",
              "      border-bottom-color: var(--fill-color);\n",
              "    }\n",
              "  }\n",
              "</style>\n",
              "\n",
              "  <script>\n",
              "    async function quickchart(key) {\n",
              "      const quickchartButtonEl =\n",
              "        document.querySelector('#' + key + ' button');\n",
              "      quickchartButtonEl.disabled = true;  // To prevent multiple clicks.\n",
              "      quickchartButtonEl.classList.add('colab-df-spinner');\n",
              "      try {\n",
              "        const charts = await google.colab.kernel.invokeFunction(\n",
              "            'suggestCharts', [key], {});\n",
              "      } catch (error) {\n",
              "        console.error('Error during call to suggestCharts:', error);\n",
              "      }\n",
              "      quickchartButtonEl.classList.remove('colab-df-spinner');\n",
              "      quickchartButtonEl.classList.add('colab-df-quickchart-complete');\n",
              "    }\n",
              "    (() => {\n",
              "      let quickchartButtonEl =\n",
              "        document.querySelector('#df-4bf90378-721e-4b53-ae42-0251b7c6f866 button');\n",
              "      quickchartButtonEl.style.display =\n",
              "        google.colab.kernel.accessAllowed ? 'block' : 'none';\n",
              "    })();\n",
              "  </script>\n",
              "</div>\n",
              "\n",
              "    </div>\n",
              "  </div>\n"
            ],
            "application/vnd.google.colaboratory.intrinsic+json": {
              "type": "dataframe",
              "summary": "{\n  \"name\": \"resonance_data\",\n  \"rows\": 4,\n  \"fields\": [\n    {\n      \"column\": \"freq\",\n      \"properties\": {\n        \"dtype\": \"number\",\n        \"std\": 44296140001513.18,\n        \"min\": 320377350766445.5,\n        \"max\": 419605594298755.56,\n        \"num_unique_values\": 4,\n        \"samples\": [\n          331980222352662.44,\n          419605594298755.56,\n          320377350766445.5\n        ],\n        \"semantic_type\": \"\",\n        \"description\": \"\"\n      }\n    },\n    {\n      \"column\": \"decay\",\n      \"properties\": {\n        \"dtype\": \"number\",\n        \"std\": 3367371397015.282,\n        \"min\": 820476953732.0692,\n        \"max\": 8189157530561.8955,\n        \"num_unique_values\": 4,\n        \"samples\": [\n          3455772414479.9385,\n          8189157530561.8955,\n          820476953732.0692\n        ],\n        \"semantic_type\": \"\",\n        \"description\": \"\"\n      }\n    },\n    {\n      \"column\": \"Q\",\n      \"properties\": {\n        \"dtype\": \"number\",\n        \"std\": 496.3739258366429,\n        \"min\": 160.97258448558628,\n        \"max\": 1226.7195647193053,\n        \"num_unique_values\": 4,\n        \"samples\": [\n          301.7984122189899,\n          160.97258448558628,\n          1226.7195647193053\n        ],\n        \"semantic_type\": \"\",\n        \"description\": \"\"\n      }\n    },\n    {\n      \"column\": \"amplitude\",\n      \"properties\": {\n        \"dtype\": \"number\",\n        \"std\": 73.13493830083749,\n        \"min\": 38.889910565333466,\n        \"max\": 187.5838481901752,\n        \"num_unique_values\": 4,\n        \"samples\": [\n          84.26269445342754,\n          180.44706111065028,\n          187.5838481901752\n        ],\n        \"semantic_type\": \"\",\n        \"description\": \"\"\n      }\n    },\n    {\n      \"column\": \"phase\",\n      \"properties\": {\n        \"dtype\": \"number\",\n        \"std\": 2.304780260853905,\n        \"min\": -2.3431852046645263,\n        \"max\": 2.765938121782656,\n        \"num_unique_values\": 4,\n        \"samples\": [\n          0.04719542370347566,\n          2.765938121782656,\n          2.111641448710313\n        ],\n        \"semantic_type\": \"\",\n        \"description\": \"\"\n      }\n    },\n    {\n      \"column\": \"error\",\n      \"properties\": {\n        \"dtype\": \"number\",\n        \"std\": 0.005751302909445463,\n        \"min\": 0.0021479766937567524,\n        \"max\": 0.015050890000280488,\n        \"num_unique_values\": 4,\n        \"samples\": [\n          0.010643846805144316,\n          0.015050890000280488,\n          0.0021479766937567524\n        ],\n        \"semantic_type\": \"\",\n        \"description\": \"\"\n      }\n    }\n  ]\n}"
            }
          },
          "metadata": {},
          "execution_count": 27
        }
      ]
    },
    {
      "cell_type": "code",
      "source": [
        "import numpy as np\n",
        "import matplotlib.pyplot as plt\n",
        "\n",
        "fig, ax1 = plt.subplots(1, 1, tight_layout=True, figsize=(7, 4))\n",
        "\n",
        "# Extract the time response data\n",
        "time_response = sim_data[\"time_monitor_1\"].Ex.squeeze()\n",
        "\n",
        "# Perform FFT and get the frequency response\n",
        "freq_response = np.abs(np.fft.fft(time_response))\n",
        "\n",
        "# Calculate the frequency values\n",
        "freqs = np.linspace(0, 1 / sim_data.simulation.dt, len(time_response))\n",
        "\n",
        "# Calculate the corresponding wavelengths\n",
        "wavelengths = td.constants.C_0 / freqs\n",
        "\n",
        "# Select the indices within the monitor frequency range\n",
        "plot_inds = np.where((monitor_freq[-1] < freqs) & (freqs < monitor_freq[0]))\n",
        "\n",
        "# Plot the frequency response with respect to wavelength\n",
        "ax1.plot(wavelengths[plot_inds], freq_response[plot_inds])\n",
        "ax1.set_xlabel(\"Wavelength (m)\")\n",
        "ax1.set_ylabel(\"Amplitude\")\n",
        "ax1.set_title(\"Frequency Response vs. Wavelength\")\n",
        "ax1.grid(True)\n",
        "\n",
        "# Reverse the x-axis to show decreasing wavelength (optional)\n",
        "#ax1.set_xlim(ax1.get_xlim()[::-1])\n",
        "\n",
        "plt.show()\n",
        "plt.savefig('Resonance_data')"
      ],
      "metadata": {
        "id": "sKzYUWTTLWUa",
        "outputId": "548c9536-870f-40de-d0d0-d87a7814183c",
        "colab": {
          "base_uri": "https://localhost:8080/",
          "height": 459
        }
      },
      "execution_count": 28,
      "outputs": [
        {
          "output_type": "stream",
          "name": "stderr",
          "text": [
            "<ipython-input-28-abf79d6369be>:16: RuntimeWarning: divide by zero encountered in divide\n",
            "  wavelengths = td.constants.C_0 / freqs\n"
          ]
        },
        {
          "output_type": "display_data",
          "data": {
            "text/plain": [
              "<Figure size 700x400 with 1 Axes>"
            ],
            "image/png": "[encoded data removed]"
          },
          "metadata": {}
        },
        {
          "output_type": "display_data",
          "data": {
            "text/plain": [
              "<Figure size 640x480 with 0 Axes>"
            ]
          },
          "metadata": {}
        }
      ]
    }
  ]
}